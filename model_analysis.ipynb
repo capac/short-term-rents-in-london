{
 "cells": [
  {
   "cell_type": "markdown",
   "id": "91a688c7-384d-4e7d-85ad-5efd610bd6a3",
   "metadata": {},
   "source": [
    "# Price prediction of short-term flat rentals in London\n",
    "\n",
    "* [Data preparation](#Data-preparation)\n",
    "* [Predictive modeling](#Predictive-modeling)"
   ]
  },
  {
   "cell_type": "code",
   "execution_count": 1,
   "id": "e6e4518b-09bf-4dbc-abe1-acdc0b4849d6",
   "metadata": {},
   "outputs": [],
   "source": [
    "from pathlib import Path\n",
    "import matplotlib.pyplot as plt\n",
    "import pandas as pd\n",
    "import numpy as np\n",
    "from sklearn import metrics\n",
    "from sklearn.model_selection import train_test_split\n",
    "from sklearn.pipeline import make_pipeline\n",
    "from sklearn.impute import SimpleImputer\n",
    "from sklearn.compose import ColumnTransformer\n",
    "from sklearn.preprocessing import OneHotEncoder, StandardScaler\n",
    "from sklearn.linear_model import LinearRegression\n",
    "from sklearn.ensemble import RandomForestRegressor"
   ]
  },
  {
   "cell_type": "code",
   "execution_count": 2,
   "id": "061acdca-8825-4593-93a5-de9826521c44",
   "metadata": {},
   "outputs": [],
   "source": [
    "pd.options.display.max_rows = None"
   ]
  },
  {
   "cell_type": "code",
   "execution_count": 3,
   "id": "b15b79f2-f162-4699-9284-4c7b8c1b3b5e",
   "metadata": {},
   "outputs": [],
   "source": [
    "home_dir = Path.home()\n",
    "inside_airbnb_data_dir = home_dir / 'Programming/data/inside-airbnb/london'\n",
    "inside_airbnb_work_dir = home_dir / 'Programming/Python/machine-learning-exercises/short-term-rents-in-london'\n",
    "plots_dir = inside_airbnb_work_dir / 'plots'\n",
    "hist_dir = plots_dir / 'histograms'\n",
    "hist_dir.mkdir(parents=True, exist_ok=True)"
   ]
  },
  {
   "cell_type": "code",
   "execution_count": 4,
   "id": "d746b606-3619-4d77-a0c5-f556707cb409",
   "metadata": {},
   "outputs": [],
   "source": [
    "inside_airbnb_data_file = inside_airbnb_data_dir / 'selected_short_term_rentals_with_distances.csv'\n",
    "inside_airbnb_df = pd.read_csv(inside_airbnb_data_file, keep_default_na=False, thousands=',')"
   ]
  },
  {
   "cell_type": "markdown",
   "id": "161b4d5c-a5f0-468f-a327-d70261cfba85",
   "metadata": {},
   "source": [
    "## Data preparation"
   ]
  },
  {
   "cell_type": "code",
   "execution_count": 5,
   "id": "b19d71ea-6741-49ad-a171-eed68660174f",
   "metadata": {},
   "outputs": [],
   "source": [
    "inside_airbnb_df.drop(['room_type', 'nearest_station'], axis=1, inplace=True)\n",
    "inside_airbnb_df['borough'] = inside_airbnb_df['borough'].replace({r'\\s': r'_'}, regex=True)"
   ]
  },
  {
   "cell_type": "code",
   "execution_count": 6,
   "id": "6b114f1c-868d-4b0c-b058-ccd18cac13a6",
   "metadata": {},
   "outputs": [],
   "source": [
    "mplstyle_file = inside_airbnb_work_dir / 'barplot-style.mplstyle'\n",
    "plt.style.use(mplstyle_file)"
   ]
  },
  {
   "cell_type": "markdown",
   "id": "6a6a926c-d607-4418-affb-3bddc6767a01",
   "metadata": {},
   "source": [
    "## Predictive modeling"
   ]
  },
  {
   "cell_type": "code",
   "execution_count": 7,
   "id": "2404de57-9b02-4bac-98e7-8c67988dfcb4",
   "metadata": {},
   "outputs": [],
   "source": [
    "inside_airbnb_df = inside_airbnb_df.loc[inside_airbnb_df['borough'] != 'Sutton']"
   ]
  },
  {
   "cell_type": "code",
   "execution_count": 8,
   "id": "e5c392ad-e607-4d4a-b691-3c54057585b5",
   "metadata": {},
   "outputs": [],
   "source": [
    "inside_airbnb_df[['amenity_1', 'amenity_2', 'amenity_3']] = inside_airbnb_df['amenities'].str.split(',', expand=True)\n",
    "inside_airbnb_df = inside_airbnb_df.drop('amenities', axis=1)"
   ]
  },
  {
   "cell_type": "code",
   "execution_count": 9,
   "id": "4e8dcc7d-5009-4ac3-9a6c-9e4993e82eaa",
   "metadata": {},
   "outputs": [
    {
     "data": {
      "text/html": [
       "<div>\n",
       "<style scoped>\n",
       "    .dataframe tbody tr th:only-of-type {\n",
       "        vertical-align: middle;\n",
       "    }\n",
       "\n",
       "    .dataframe tbody tr th {\n",
       "        vertical-align: top;\n",
       "    }\n",
       "\n",
       "    .dataframe thead th {\n",
       "        text-align: right;\n",
       "    }\n",
       "</style>\n",
       "<table border=\"1\" class=\"dataframe\">\n",
       "  <thead>\n",
       "    <tr style=\"text-align: right;\">\n",
       "      <th></th>\n",
       "      <th>borough</th>\n",
       "      <th>latitude</th>\n",
       "      <th>longitude</th>\n",
       "      <th>property_type</th>\n",
       "      <th>bathrooms</th>\n",
       "      <th>bedrooms</th>\n",
       "      <th>price</th>\n",
       "      <th>minimum_nights</th>\n",
       "      <th>crime_rate</th>\n",
       "      <th>distance_to_station</th>\n",
       "      <th>amenity_1</th>\n",
       "      <th>amenity_2</th>\n",
       "      <th>amenity_3</th>\n",
       "    </tr>\n",
       "  </thead>\n",
       "  <tbody>\n",
       "    <tr>\n",
       "      <th>0</th>\n",
       "      <td>Lambeth</td>\n",
       "      <td>51.491476</td>\n",
       "      <td>-0.111514</td>\n",
       "      <td>Entire rental unit</td>\n",
       "      <td>1.0</td>\n",
       "      <td>1.0</td>\n",
       "      <td>150.0</td>\n",
       "      <td>30</td>\n",
       "      <td>137.98</td>\n",
       "      <td>0.520193</td>\n",
       "      <td>None</td>\n",
       "      <td>None</td>\n",
       "      <td>None</td>\n",
       "    </tr>\n",
       "    <tr>\n",
       "      <th>1</th>\n",
       "      <td>Kensington_and_Chelsea</td>\n",
       "      <td>51.485660</td>\n",
       "      <td>-0.184150</td>\n",
       "      <td>Entire rental unit</td>\n",
       "      <td>2.0</td>\n",
       "      <td>2.0</td>\n",
       "      <td>195.0</td>\n",
       "      <td>91</td>\n",
       "      <td>118.02</td>\n",
       "      <td>0.956708</td>\n",
       "      <td>Nightlife</td>\n",
       "      <td>Restaurant</td>\n",
       "      <td>None</td>\n",
       "    </tr>\n",
       "    <tr>\n",
       "      <th>2</th>\n",
       "      <td>Brent</td>\n",
       "      <td>51.538990</td>\n",
       "      <td>-0.197440</td>\n",
       "      <td>Entire rental unit</td>\n",
       "      <td>1.5</td>\n",
       "      <td>2.0</td>\n",
       "      <td>83.0</td>\n",
       "      <td>30</td>\n",
       "      <td>117.59</td>\n",
       "      <td>0.481797</td>\n",
       "      <td>Grocery Store</td>\n",
       "      <td>None</td>\n",
       "      <td>None</td>\n",
       "    </tr>\n",
       "    <tr>\n",
       "      <th>3</th>\n",
       "      <td>Kensington_and_Chelsea</td>\n",
       "      <td>51.517320</td>\n",
       "      <td>-0.200500</td>\n",
       "      <td>Entire rental unit</td>\n",
       "      <td>1.0</td>\n",
       "      <td>2.0</td>\n",
       "      <td>288.0</td>\n",
       "      <td>91</td>\n",
       "      <td>118.02</td>\n",
       "      <td>0.398479</td>\n",
       "      <td>Restaurant</td>\n",
       "      <td>None</td>\n",
       "      <td>None</td>\n",
       "    </tr>\n",
       "    <tr>\n",
       "      <th>4</th>\n",
       "      <td>Westminster</td>\n",
       "      <td>51.496950</td>\n",
       "      <td>-0.138880</td>\n",
       "      <td>Entire rental unit</td>\n",
       "      <td>3.0</td>\n",
       "      <td>4.0</td>\n",
       "      <td>901.0</td>\n",
       "      <td>186</td>\n",
       "      <td>132.94</td>\n",
       "      <td>0.200253</td>\n",
       "      <td>Restaurant</td>\n",
       "      <td>Retail</td>\n",
       "      <td>None</td>\n",
       "    </tr>\n",
       "  </tbody>\n",
       "</table>\n",
       "</div>"
      ],
      "text/plain": [
       "                  borough   latitude  longitude       property_type  \\\n",
       "0                 Lambeth  51.491476  -0.111514  Entire rental unit   \n",
       "1  Kensington_and_Chelsea  51.485660  -0.184150  Entire rental unit   \n",
       "2                   Brent  51.538990  -0.197440  Entire rental unit   \n",
       "3  Kensington_and_Chelsea  51.517320  -0.200500  Entire rental unit   \n",
       "4             Westminster  51.496950  -0.138880  Entire rental unit   \n",
       "\n",
       "   bathrooms  bedrooms  price  minimum_nights  crime_rate  \\\n",
       "0        1.0       1.0  150.0              30      137.98   \n",
       "1        2.0       2.0  195.0              91      118.02   \n",
       "2        1.5       2.0   83.0              30      117.59   \n",
       "3        1.0       2.0  288.0              91      118.02   \n",
       "4        3.0       4.0  901.0             186      132.94   \n",
       "\n",
       "   distance_to_station      amenity_1    amenity_2 amenity_3  \n",
       "0             0.520193           None         None      None  \n",
       "1             0.956708      Nightlife   Restaurant      None  \n",
       "2             0.481797  Grocery Store         None      None  \n",
       "3             0.398479     Restaurant         None      None  \n",
       "4             0.200253     Restaurant       Retail      None  "
      ]
     },
     "execution_count": 9,
     "metadata": {},
     "output_type": "execute_result"
    }
   ],
   "source": [
    "inside_airbnb_df.head()"
   ]
  },
  {
   "cell_type": "code",
   "execution_count": 10,
   "id": "6307883a-0c12-4429-a667-e068ea221473",
   "metadata": {},
   "outputs": [],
   "source": [
    "cat_attribs = ['borough', 'property_type', 'amenity_1', 'amenity_2', 'amenity_3']\n",
    "num_attribs = ['latitude', 'longitude', 'bathrooms', 'bedrooms', 'minimum_nights', 'crime_rate', 'distance_to_station']"
   ]
  },
  {
   "cell_type": "code",
   "execution_count": 11,
   "id": "53ab0191-0b70-464c-9556-1e5892d0d411",
   "metadata": {},
   "outputs": [],
   "source": [
    "num_pipeline = make_pipeline(\n",
    "    SimpleImputer(strategy='median'),\n",
    "    StandardScaler(),\n",
    ")"
   ]
  },
  {
   "cell_type": "code",
   "execution_count": 12,
   "id": "6744e2f6-8ba5-43e0-804a-e965963e0d7a",
   "metadata": {},
   "outputs": [],
   "source": [
    "cat_pipeline = make_pipeline(\n",
    "    SimpleImputer(strategy='most_frequent'),\n",
    "    OneHotEncoder(handle_unknown='ignore', sparse_output=False),\n",
    ")"
   ]
  },
  {
   "cell_type": "code",
   "execution_count": 13,
   "id": "0ee291cf-865d-43db-9700-2cbb0c58ecd4",
   "metadata": {},
   "outputs": [],
   "source": [
    "preprocessing = ColumnTransformer([\n",
    "    ('num', num_pipeline, num_attribs),\n",
    "    ('cat', cat_pipeline, cat_attribs),\n",
    "])"
   ]
  },
  {
   "cell_type": "code",
   "execution_count": 14,
   "id": "b5e24fd4-bcd2-4244-9a23-76985ef6a4a0",
   "metadata": {},
   "outputs": [],
   "source": [
    "inside_airbnb_prepared_arr = preprocessing.fit_transform(inside_airbnb_df)"
   ]
  },
  {
   "cell_type": "code",
   "execution_count": 15,
   "id": "d891239f-38e9-4226-9ac4-44aafed33077",
   "metadata": {},
   "outputs": [],
   "source": [
    "inside_airbnb_prepared_df = pd.DataFrame(\n",
    "    data=inside_airbnb_prepared_arr,\n",
    "    columns=preprocessing.get_feature_names_out(),\n",
    "    index=inside_airbnb_df.index,\n",
    ")"
   ]
  },
  {
   "cell_type": "code",
   "execution_count": null,
   "id": "30fe19d3-73e6-4d8e-bcf5-c578ef2dab5f",
   "metadata": {},
   "outputs": [],
   "source": [
    "df_full_train, df_test = train_test_split(inside_airbnb_prepared_df, test_size=0.2, random_state=33, stratify=inside_airbnb_prepared_df['borough'])\n",
    "df_train, df_val = train_test_split(df_full_train, test_size=0.25, random_state=33, stratify=df_full_train['borough'])"
   ]
  },
  {
   "cell_type": "code",
   "execution_count": null,
   "id": "43064268-9a4b-4d52-a6af-36f608af7c69",
   "metadata": {},
   "outputs": [],
   "source": [
    "df_train.shape, df_val.shape, df_test.shape"
   ]
  },
  {
   "cell_type": "code",
   "execution_count": null,
   "id": "c5e7acb8-ce43-417a-8a98-8b500d3ae3d0",
   "metadata": {},
   "outputs": [],
   "source": [
    "df_train = df_train.reset_index(drop=True)\n",
    "df_val = df_val.reset_index(drop=True)\n",
    "df_test = df_test.reset_index(drop=True)"
   ]
  },
  {
   "cell_type": "code",
   "execution_count": null,
   "id": "e2fcb91a-caad-4ae1-b086-c5f40a465fe0",
   "metadata": {},
   "outputs": [],
   "source": [
    "X_train = df_train.drop('price', axis=1)\n",
    "X_val = df_val.drop('price', axis=1)\n",
    "X_test = df_test.drop('price', axis=1)"
   ]
  },
  {
   "cell_type": "code",
   "execution_count": null,
   "id": "22d20463-796b-4681-8f24-055b8db88eda",
   "metadata": {},
   "outputs": [],
   "source": [
    "y_train = df_train['price'].copy()\n",
    "y_val = df_val['price'].copy()\n",
    "y_test = df_test['price'].copy()"
   ]
  },
  {
   "cell_type": "code",
   "execution_count": null,
   "id": "bbbec4e5-e584-4e93-bbae-fb751ff46c79",
   "metadata": {},
   "outputs": [],
   "source": [
    "X_train.tail()"
   ]
  }
 ],
 "metadata": {
  "kernelspec": {
   "display_name": "Python 3 (ipykernel)",
   "language": "python",
   "name": "python3"
  },
  "language_info": {
   "codemirror_mode": {
    "name": "ipython",
    "version": 3
   },
   "file_extension": ".py",
   "mimetype": "text/x-python",
   "name": "python",
   "nbconvert_exporter": "python",
   "pygments_lexer": "ipython3",
   "version": "3.12.9"
  }
 },
 "nbformat": 4,
 "nbformat_minor": 5
}
