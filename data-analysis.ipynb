{
 "cells": [
  {
   "cell_type": "code",
   "execution_count": 1,
   "id": "e6e4518b-09bf-4dbc-abe1-acdc0b4849d6",
   "metadata": {},
   "outputs": [],
   "source": [
    "from pathlib import Path\n",
    "import pandas as pd"
   ]
  },
  {
   "cell_type": "code",
   "execution_count": 2,
   "id": "061acdca-8825-4593-93a5-de9826521c44",
   "metadata": {},
   "outputs": [],
   "source": [
    "pd.options.display.max_rows = None"
   ]
  },
  {
   "cell_type": "code",
   "execution_count": 3,
   "id": "b15b79f2-f162-4699-9284-4c7b8c1b3b5e",
   "metadata": {},
   "outputs": [],
   "source": [
    "home_dir = Path.home()\n",
    "inside_airbnb_data_dir = home_dir / 'Programming/data/inside-airbnb/london'"
   ]
  },
  {
   "cell_type": "code",
   "execution_count": 4,
   "id": "d746b606-3619-4d77-a0c5-f556707cb409",
   "metadata": {},
   "outputs": [],
   "source": [
    "inside_airbnb_data_file = inside_airbnb_data_dir / 'selected_short_term_rentals_with_distances.csv'\n",
    "inside_airbnb_df = pd.read_csv(inside_airbnb_data_file, na_values='None')"
   ]
  },
  {
   "cell_type": "code",
   "execution_count": 5,
   "id": "8b1fef73-bc3a-45eb-bcf6-e2f68cf67676",
   "metadata": {},
   "outputs": [
    {
     "name": "stdout",
     "output_type": "stream",
     "text": [
      "<class 'pandas.core.frame.DataFrame'>\n",
      "RangeIndex: 1489 entries, 0 to 1488\n",
      "Data columns (total 13 columns):\n",
      " #   Column               Non-Null Count  Dtype  \n",
      "---  ------               --------------  -----  \n",
      " 0   borough              1489 non-null   object \n",
      " 1   latitude             1489 non-null   float64\n",
      " 2   longitude            1489 non-null   float64\n",
      " 3   property_type        1489 non-null   object \n",
      " 4   room_type            1489 non-null   object \n",
      " 5   bathrooms            1489 non-null   float64\n",
      " 6   bedrooms             1489 non-null   float64\n",
      " 7   price                1489 non-null   object \n",
      " 8   minimum_nights       1489 non-null   int64  \n",
      " 9   crime_rate           1489 non-null   float64\n",
      " 10  amenities            1391 non-null   object \n",
      " 11  nearest_station      1489 non-null   object \n",
      " 12  distance_to_station  1489 non-null   float64\n",
      "dtypes: float64(6), int64(1), object(6)\n",
      "memory usage: 151.4+ KB\n"
     ]
    }
   ],
   "source": [
    "inside_airbnb_df.info()"
   ]
  },
  {
   "cell_type": "code",
   "execution_count": 6,
   "id": "b19d71ea-6741-49ad-a171-eed68660174f",
   "metadata": {},
   "outputs": [],
   "source": [
    "inside_airbnb_df.drop(['room_type', 'nearest_station'], axis=1, inplace=True)"
   ]
  },
  {
   "cell_type": "code",
   "execution_count": 7,
   "id": "0c2f4b31-e712-4d30-889d-108f19b156c8",
   "metadata": {},
   "outputs": [
    {
     "data": {
      "text/plain": [
       "borough                  33\n",
       "latitude               1312\n",
       "longitude              1332\n",
       "property_type            14\n",
       "bathrooms                14\n",
       "bedrooms                 10\n",
       "price                   331\n",
       "minimum_nights           66\n",
       "crime_rate               33\n",
       "amenities               232\n",
       "distance_to_station    1339\n",
       "dtype: int64"
      ]
     },
     "execution_count": 7,
     "metadata": {},
     "output_type": "execute_result"
    }
   ],
   "source": [
    "inside_airbnb_df.nunique()"
   ]
  },
  {
   "cell_type": "code",
   "execution_count": 8,
   "id": "6280b916-fa7c-4a24-ac53-bc852f5b5879",
   "metadata": {},
   "outputs": [
    {
     "data": {
      "text/html": [
       "<div>\n",
       "<style scoped>\n",
       "    .dataframe tbody tr th:only-of-type {\n",
       "        vertical-align: middle;\n",
       "    }\n",
       "\n",
       "    .dataframe tbody tr th {\n",
       "        vertical-align: top;\n",
       "    }\n",
       "\n",
       "    .dataframe thead th {\n",
       "        text-align: right;\n",
       "    }\n",
       "</style>\n",
       "<table border=\"1\" class=\"dataframe\">\n",
       "  <thead>\n",
       "    <tr style=\"text-align: right;\">\n",
       "      <th></th>\n",
       "      <th>borough</th>\n",
       "      <th>latitude</th>\n",
       "      <th>longitude</th>\n",
       "      <th>property_type</th>\n",
       "      <th>bathrooms</th>\n",
       "      <th>bedrooms</th>\n",
       "      <th>price</th>\n",
       "      <th>minimum_nights</th>\n",
       "      <th>crime_rate</th>\n",
       "      <th>amenities</th>\n",
       "      <th>distance_to_station</th>\n",
       "    </tr>\n",
       "  </thead>\n",
       "  <tbody>\n",
       "    <tr>\n",
       "      <th>0</th>\n",
       "      <td>Lambeth</td>\n",
       "      <td>51.491476</td>\n",
       "      <td>-0.111514</td>\n",
       "      <td>Entire rental unit</td>\n",
       "      <td>1.0</td>\n",
       "      <td>1.0</td>\n",
       "      <td>150.00</td>\n",
       "      <td>30</td>\n",
       "      <td>137.98</td>\n",
       "      <td>NaN</td>\n",
       "      <td>0.520193</td>\n",
       "    </tr>\n",
       "    <tr>\n",
       "      <th>1</th>\n",
       "      <td>Kensington and Chelsea</td>\n",
       "      <td>51.485660</td>\n",
       "      <td>-0.184150</td>\n",
       "      <td>Entire rental unit</td>\n",
       "      <td>2.0</td>\n",
       "      <td>2.0</td>\n",
       "      <td>195.00</td>\n",
       "      <td>91</td>\n",
       "      <td>118.02</td>\n",
       "      <td>Nightlife, Restaurant</td>\n",
       "      <td>0.956708</td>\n",
       "    </tr>\n",
       "    <tr>\n",
       "      <th>2</th>\n",
       "      <td>Brent</td>\n",
       "      <td>51.538990</td>\n",
       "      <td>-0.197440</td>\n",
       "      <td>Entire rental unit</td>\n",
       "      <td>1.5</td>\n",
       "      <td>2.0</td>\n",
       "      <td>83.00</td>\n",
       "      <td>30</td>\n",
       "      <td>117.59</td>\n",
       "      <td>Grocery Store</td>\n",
       "      <td>0.481797</td>\n",
       "    </tr>\n",
       "    <tr>\n",
       "      <th>3</th>\n",
       "      <td>Kensington and Chelsea</td>\n",
       "      <td>51.517320</td>\n",
       "      <td>-0.200500</td>\n",
       "      <td>Entire rental unit</td>\n",
       "      <td>1.0</td>\n",
       "      <td>2.0</td>\n",
       "      <td>288.00</td>\n",
       "      <td>91</td>\n",
       "      <td>118.02</td>\n",
       "      <td>Restaurant</td>\n",
       "      <td>0.398479</td>\n",
       "    </tr>\n",
       "    <tr>\n",
       "      <th>4</th>\n",
       "      <td>Westminster</td>\n",
       "      <td>51.496950</td>\n",
       "      <td>-0.138880</td>\n",
       "      <td>Entire rental unit</td>\n",
       "      <td>3.0</td>\n",
       "      <td>4.0</td>\n",
       "      <td>901.00</td>\n",
       "      <td>186</td>\n",
       "      <td>132.94</td>\n",
       "      <td>Restaurant, Retail</td>\n",
       "      <td>0.200253</td>\n",
       "    </tr>\n",
       "  </tbody>\n",
       "</table>\n",
       "</div>"
      ],
      "text/plain": [
       "                  borough   latitude  longitude       property_type  \\\n",
       "0                 Lambeth  51.491476  -0.111514  Entire rental unit   \n",
       "1  Kensington and Chelsea  51.485660  -0.184150  Entire rental unit   \n",
       "2                   Brent  51.538990  -0.197440  Entire rental unit   \n",
       "3  Kensington and Chelsea  51.517320  -0.200500  Entire rental unit   \n",
       "4             Westminster  51.496950  -0.138880  Entire rental unit   \n",
       "\n",
       "   bathrooms  bedrooms   price  minimum_nights  crime_rate  \\\n",
       "0        1.0       1.0  150.00              30      137.98   \n",
       "1        2.0       2.0  195.00              91      118.02   \n",
       "2        1.5       2.0   83.00              30      117.59   \n",
       "3        1.0       2.0  288.00              91      118.02   \n",
       "4        3.0       4.0  901.00             186      132.94   \n",
       "\n",
       "               amenities  distance_to_station  \n",
       "0                    NaN             0.520193  \n",
       "1  Nightlife, Restaurant             0.956708  \n",
       "2          Grocery Store             0.481797  \n",
       "3             Restaurant             0.398479  \n",
       "4     Restaurant, Retail             0.200253  "
      ]
     },
     "execution_count": 8,
     "metadata": {},
     "output_type": "execute_result"
    }
   ],
   "source": [
    "inside_airbnb_df.head()"
   ]
  },
  {
   "cell_type": "code",
   "execution_count": null,
   "id": "701cd779-3337-42f9-8057-0a39693067e8",
   "metadata": {},
   "outputs": [],
   "source": []
  }
 ],
 "metadata": {
  "kernelspec": {
   "display_name": "Python 3 (ipykernel)",
   "language": "python",
   "name": "python3"
  },
  "language_info": {
   "codemirror_mode": {
    "name": "ipython",
    "version": 3
   },
   "file_extension": ".py",
   "mimetype": "text/x-python",
   "name": "python",
   "nbconvert_exporter": "python",
   "pygments_lexer": "ipython3",
   "version": "3.11.11"
  }
 },
 "nbformat": 4,
 "nbformat_minor": 5
}
