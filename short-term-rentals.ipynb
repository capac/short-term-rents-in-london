{
 "cells": [
  {
   "cell_type": "code",
   "execution_count": null,
   "id": "e6e4518b-09bf-4dbc-abe1-acdc0b4849d6",
   "metadata": {},
   "outputs": [],
   "source": [
    "import os\n",
    "from pathlib import Path\n",
    "import pandas as pd\n",
    "import requests\n",
    "import time\n",
    "from geopy.distance import geodesic"
   ]
  },
  {
   "cell_type": "code",
   "execution_count": null,
   "id": "a6122644-82c1-498e-bbd6-c1fd6b9ce410",
   "metadata": {},
   "outputs": [],
   "source": [
    "FOURSQUARE_API_KEY = os.environ['FOURSQUARE_API_KEY']\n",
    "FOURSQUARE_URL = 'https://api.foursquare.com/v3/places/search'"
   ]
  },
  {
   "cell_type": "code",
   "execution_count": null,
   "id": "b15b79f2-f162-4699-9284-4c7b8c1b3b5e",
   "metadata": {},
   "outputs": [],
   "source": [
    "home_dir = Path.home()\n",
    "inside_airbnb_data_dir = (\n",
    "    home_dir / 'Programming/data/inside-airbnb/london')\n",
    "inside_airbnb_work_dir = (\n",
    "    home_dir /\n",
    "    'Programming/Python/machine-learning-exercises/short-term-rents-in-london')\n"
   ]
  },
  {
   "cell_type": "code",
   "execution_count": null,
   "id": "7be29204-7e75-4be6-9291-a28cc476f5fa",
   "metadata": {},
   "outputs": [],
   "source": [
    "inside_airbnb_data_file = (\n",
    "    inside_airbnb_data_dir / 'selected_short_term_rentals_with_distances.csv')\n",
    "cache_file = inside_airbnb_data_dir / 'amenities_cache.csv'\n",
    "output_file = (inside_airbnb_data_dir /\n",
    "    'selected_short_term_rentals_with_distances_and_amenities.csv')"
   ]
  },
  {
   "cell_type": "code",
   "execution_count": null,
   "id": "d746b606-3619-4d77-a0c5-f556707cb409",
   "metadata": {},
   "outputs": [],
   "source": [
    "inside_airbnb_df = pd.read_csv(inside_airbnb_data_file)"
   ]
  },
  {
   "cell_type": "code",
   "execution_count": null,
   "id": "bb1d77cf-7f16-40d6-bb8d-5485f08e7b20",
   "metadata": {},
   "outputs": [],
   "source": [
    "inside_airbnb_df.head()"
   ]
  },
  {
   "cell_type": "code",
   "execution_count": null,
   "id": "2d7e0814",
   "metadata": {},
   "outputs": [],
   "source": [
    "if os.path.exists(cache_file):\n",
    "    cache_df = pd.read_csv(cache_file)\n",
    "    cache = {\n",
    "        (round(lat, 6), round(lon, 6)): amenity for lat, lon, amenity in\n",
    "        zip(cache_df['latitude'], cache_df['longitude'], cache_df['nearest_amenity'])\n",
    "        }\n",
    "else:\n",
    "    cache_df = pd.DataFrame(columns=['latitude', 'longitude', 'nearest_amenity'])\n",
    "    cache = {}"
   ]
  },
  {
   "cell_type": "code",
   "execution_count": null,
   "id": "5aeff158",
   "metadata": {},
   "outputs": [],
   "source": [
    "def is_within_radius(lat1, lon1, lat2, lon2, radius_meters):\n",
    "    return geodesic((lat1, lon1), (lat2, lon2)).meters <= radius_meters"
   ]
  },
  {
   "cell_type": "code",
   "execution_count": null,
   "id": "c4e18626",
   "metadata": {},
   "outputs": [],
   "source": [
    "def find_cached_category(lat, lon, cache_radius_meters=100):\n",
    "    for (cached_lat, cached_lon), amenity in cache.items():\n",
    "        if is_within_radius(lat, lon, cached_lat,\n",
    "                            cached_lon, cache_radius_meters):\n",
    "            return amenity\n",
    "    return None"
   ]
  },
  {
   "cell_type": "code",
   "execution_count": null,
   "id": "63ed58c2",
   "metadata": {},
   "outputs": [],
   "source": [
    "def get_nearby_categories(lat, lon, limit=1, radius=100):\n",
    "\n",
    "    HEADERS = {\n",
    "    'Authorization': FOURSQUARE_API_KEY,\n",
    "    'Accept': 'application/json'\n",
    "    }\n",
    "\n",
    "    params = {\n",
    "        'll': f'{lat},{lon}',\n",
    "        'limit': limit,\n",
    "        'radius': radius,\n",
    "        'sort': 'DISTANCE'\n",
    "    }\n",
    "\n",
    "    response = requests.get(FOURSQUARE_URL, headers=HEADERS, params=params)\n",
    "    response.raise_for_status()\n",
    "    data = response.json()\n",
    "\n",
    "    categories = set()\n",
    "    for place in data.get('results', []):\n",
    "        category_list = place.get('categories', [])\n",
    "        if category_list:\n",
    "            top_category = category_list[0].get('name')\n",
    "            categories.add(top_category)\n",
    "\n",
    "    result = ', '.join(categories) if categories else 'None'\n",
    "    return result"
   ]
  },
  {
   "cell_type": "code",
   "execution_count": null,
   "id": "b005470e",
   "metadata": {},
   "outputs": [],
   "source": [
    "def get_category_with_retry(lat, lon, retries=5):\n",
    "    for attempt in range(retries):\n",
    "        try:\n",
    "            return get_nearby_categories(lat, lon, limit=3, radius=100)\n",
    "        except requests.RequestException as e:\n",
    "            print(f'Network error at ({lat}, {lon}): {e} - retry {attempt + 1}')\n",
    "            time.sleep(2 ** attempt)\n",
    "    print(f'Failed after {retries} attempts: ({lat}, {lon})')\n",
    "    return 'None'"
   ]
  },
  {
   "cell_type": "code",
   "execution_count": null,
   "id": "2c4e6ce7",
   "metadata": {},
   "outputs": [],
   "source": [
    "def process_dataframe(df):\n",
    "    counter_cache = 0\n",
    "    counter_saved_data = 0\n",
    "    if 'nearest_amenity' not in df.columns:\n",
    "        df['nearest_amenity'] = ''\n",
    "\n",
    "    for idx, row in df.iterrows():\n",
    "        if pd.notna(row['nearest_amenity']) and row['nearest_amenity'] != '':\n",
    "            continue\n",
    "\n",
    "        lat, lon = row['latitude'], row['longitude']\n",
    "        cached = find_cached_category(lat, lon)\n",
    "        if cached:\n",
    "            category = cached\n",
    "        else:\n",
    "            category = get_category_with_retry(lat, lon)\n",
    "            cache[(round(lat, 6), round(lon, 6))] = category\n",
    "            cache_df.loc[len(cache_df)] = [lat, lon, category]\n",
    "            cache_df.to_csv(cache_file, index=False)\n",
    "            counter_cache += 1\n",
    "            if counter_cache % 50 == 0:\n",
    "                print(f'Saved {counter_cache} results to cache')\n",
    "\n",
    "        df.at[idx, 'nearest_amenity'] = category\n",
    "        df.to_csv(output_file, index=False)\n",
    "        counter_saved_data += 1\n",
    "        if counter_saved_data % 50 == 0:\n",
    "            print(f'Saved {counter_saved_data} results to file')"
   ]
  },
  {
   "cell_type": "code",
   "execution_count": null,
   "id": "9476a201",
   "metadata": {},
   "outputs": [],
   "source": [
    "inside_airbnb_df = process_dataframe(inside_airbnb_df)"
   ]
  }
 ],
 "metadata": {
  "kernelspec": {
   "display_name": "london-rentals",
   "language": "python",
   "name": "python3"
  },
  "language_info": {
   "codemirror_mode": {
    "name": "ipython",
    "version": 3
   },
   "file_extension": ".py",
   "mimetype": "text/x-python",
   "name": "python",
   "nbconvert_exporter": "python",
   "pygments_lexer": "ipython3",
   "version": "3.12.9"
  }
 },
 "nbformat": 4,
 "nbformat_minor": 5
}
