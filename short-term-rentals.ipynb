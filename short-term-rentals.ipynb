{
 "cells": [
  {
   "cell_type": "code",
   "execution_count": 1,
   "id": "e6e4518b-09bf-4dbc-abe1-acdc0b4849d6",
   "metadata": {},
   "outputs": [],
   "source": [
    "from pathlib import Path\n",
    "import pandas as pd\n",
    "import requests\n",
    "import os"
   ]
  },
  {
   "cell_type": "code",
   "execution_count": 2,
   "id": "061acdca-8825-4593-93a5-de9826521c44",
   "metadata": {},
   "outputs": [],
   "source": [
    "pd.options.display.max_rows = None"
   ]
  },
  {
   "cell_type": "code",
   "execution_count": 3,
   "id": "b15b79f2-f162-4699-9284-4c7b8c1b3b5e",
   "metadata": {},
   "outputs": [],
   "source": [
    "home_dir = Path.home()\n",
    "inside_airbnb_data_dir = home_dir / 'Programming/data/inside-airbnb/london'\n",
    "crime_rate_dir = home_dir / 'Programming/data/crime-rate/'"
   ]
  },
  {
   "cell_type": "code",
   "execution_count": 4,
   "id": "a6122644-82c1-498e-bbd6-c1fd6b9ce410",
   "metadata": {},
   "outputs": [],
   "source": [
    "FOURSQUARE_API_KEY = os.environ['FOURSQUARE_API_KEY']\n",
    "FOURSQUARE_URL = \"https://api.foursquare.com/v3/places/search\""
   ]
  },
  {
   "cell_type": "code",
   "execution_count": 5,
   "id": "7be29204-7e75-4be6-9291-a28cc476f5fa",
   "metadata": {},
   "outputs": [],
   "source": [
    "inside_airbnb_data_file = inside_airbnb_data_dir / 'listings.csv'\n",
    "crime_rate_data_file = crime_rate_dir / 'crimerate-pro-data-table-rmp-region-towns-cities.csv'"
   ]
  },
  {
   "cell_type": "code",
   "execution_count": 6,
   "id": "cacd24f8-0285-4007-a322-240ef2147705",
   "metadata": {},
   "outputs": [],
   "source": [
    "crime_rate_df = pd.read_csv(crime_rate_data_file, usecols=['Borough', 'Crime Rate'])\n",
    "crime_rate_df.rename(columns={'Borough': 'borough', 'Crime Rate': 'crime_rate'}, inplace=True)\n",
    "crime_rate_df = crime_rate_df[crime_rate_df.borough != 'DownloadCSVExcelTSV']"
   ]
  },
  {
   "cell_type": "code",
   "execution_count": 7,
   "id": "d746b606-3619-4d77-a0c5-f556707cb409",
   "metadata": {},
   "outputs": [],
   "source": [
    "columns_list = ['neighbourhood_cleansed', 'bathrooms', 'bedrooms', 'latitude', 'longitude',\n",
    "                'room_type', 'latitude', 'longitude', 'property_type', 'price', 'minimum_nights']\n",
    "inside_airbnb_df = pd.read_csv(inside_airbnb_data_file, usecols=columns_list)\n",
    "inside_airbnb_df.rename(columns={'neighbourhood_cleansed': 'borough'}, inplace=True)\n",
    "inside_airbnb_df.price = inside_airbnb_df.price.str.replace('$', '')"
   ]
  },
  {
   "cell_type": "code",
   "execution_count": 8,
   "id": "602c14a7-c2a0-4df2-8b0e-b93d7e7e53e3",
   "metadata": {},
   "outputs": [],
   "source": [
    "inside_airbnb_df = inside_airbnb_df.loc[inside_airbnb_df.room_type == 'Entire home/apt']"
   ]
  },
  {
   "cell_type": "code",
   "execution_count": 9,
   "id": "cda21d6a-6484-4a1b-ba0c-f1dd61261eae",
   "metadata": {},
   "outputs": [],
   "source": [
    "inside_airbnb_df = inside_airbnb_df.loc[inside_airbnb_df.minimum_nights >= 30]"
   ]
  },
  {
   "cell_type": "code",
   "execution_count": 10,
   "id": "8d8916bf-84a9-49d9-a60c-2cf88464c10e",
   "metadata": {},
   "outputs": [],
   "source": [
    "inside_airbnb_df = inside_airbnb_df.merge(crime_rate_df, on='borough', how='left')"
   ]
  },
  {
   "cell_type": "code",
   "execution_count": 11,
   "id": "8ddd9fd7-4209-4e1e-ad9f-2fbe7ed391b1",
   "metadata": {},
   "outputs": [
    {
     "data": {
      "text/html": [
       "<div>\n",
       "<style scoped>\n",
       "    .dataframe tbody tr th:only-of-type {\n",
       "        vertical-align: middle;\n",
       "    }\n",
       "\n",
       "    .dataframe tbody tr th {\n",
       "        vertical-align: top;\n",
       "    }\n",
       "\n",
       "    .dataframe thead th {\n",
       "        text-align: right;\n",
       "    }\n",
       "</style>\n",
       "<table border=\"1\" class=\"dataframe\">\n",
       "  <thead>\n",
       "    <tr style=\"text-align: right;\">\n",
       "      <th></th>\n",
       "      <th>borough</th>\n",
       "      <th>latitude</th>\n",
       "      <th>longitude</th>\n",
       "      <th>property_type</th>\n",
       "      <th>room_type</th>\n",
       "      <th>bathrooms</th>\n",
       "      <th>bedrooms</th>\n",
       "      <th>price</th>\n",
       "      <th>minimum_nights</th>\n",
       "      <th>crime_rate</th>\n",
       "    </tr>\n",
       "  </thead>\n",
       "  <tbody>\n",
       "    <tr>\n",
       "      <th>0</th>\n",
       "      <td>Croydon</td>\n",
       "      <td>51.374870</td>\n",
       "      <td>-0.115650</td>\n",
       "      <td>Entire condo</td>\n",
       "      <td>Entire home/apt</td>\n",
       "      <td>NaN</td>\n",
       "      <td>2.0</td>\n",
       "      <td>NaN</td>\n",
       "      <td>180</td>\n",
       "      <td>111.91</td>\n",
       "    </tr>\n",
       "    <tr>\n",
       "      <th>1</th>\n",
       "      <td>Ealing</td>\n",
       "      <td>51.524790</td>\n",
       "      <td>-0.361860</td>\n",
       "      <td>Entire townhouse</td>\n",
       "      <td>Entire home/apt</td>\n",
       "      <td>NaN</td>\n",
       "      <td>2.0</td>\n",
       "      <td>NaN</td>\n",
       "      <td>90</td>\n",
       "      <td>103.37</td>\n",
       "    </tr>\n",
       "    <tr>\n",
       "      <th>2</th>\n",
       "      <td>Lambeth</td>\n",
       "      <td>51.491476</td>\n",
       "      <td>-0.111514</td>\n",
       "      <td>Entire rental unit</td>\n",
       "      <td>Entire home/apt</td>\n",
       "      <td>1.0</td>\n",
       "      <td>1.0</td>\n",
       "      <td>150.00</td>\n",
       "      <td>30</td>\n",
       "      <td>137.98</td>\n",
       "    </tr>\n",
       "    <tr>\n",
       "      <th>3</th>\n",
       "      <td>Kensington and Chelsea</td>\n",
       "      <td>51.485660</td>\n",
       "      <td>-0.184150</td>\n",
       "      <td>Entire rental unit</td>\n",
       "      <td>Entire home/apt</td>\n",
       "      <td>2.0</td>\n",
       "      <td>2.0</td>\n",
       "      <td>195.00</td>\n",
       "      <td>91</td>\n",
       "      <td>118.02</td>\n",
       "    </tr>\n",
       "    <tr>\n",
       "      <th>4</th>\n",
       "      <td>Merton</td>\n",
       "      <td>51.408040</td>\n",
       "      <td>-0.228370</td>\n",
       "      <td>Entire rental unit</td>\n",
       "      <td>Entire home/apt</td>\n",
       "      <td>NaN</td>\n",
       "      <td>1.0</td>\n",
       "      <td>NaN</td>\n",
       "      <td>30</td>\n",
       "      <td>82.49</td>\n",
       "    </tr>\n",
       "  </tbody>\n",
       "</table>\n",
       "</div>"
      ],
      "text/plain": [
       "                  borough   latitude  longitude       property_type  \\\n",
       "0                 Croydon  51.374870  -0.115650        Entire condo   \n",
       "1                  Ealing  51.524790  -0.361860    Entire townhouse   \n",
       "2                 Lambeth  51.491476  -0.111514  Entire rental unit   \n",
       "3  Kensington and Chelsea  51.485660  -0.184150  Entire rental unit   \n",
       "4                  Merton  51.408040  -0.228370  Entire rental unit   \n",
       "\n",
       "         room_type  bathrooms  bedrooms   price  minimum_nights  crime_rate  \n",
       "0  Entire home/apt        NaN       2.0     NaN             180      111.91  \n",
       "1  Entire home/apt        NaN       2.0     NaN              90      103.37  \n",
       "2  Entire home/apt        1.0       1.0  150.00              30      137.98  \n",
       "3  Entire home/apt        2.0       2.0  195.00              91      118.02  \n",
       "4  Entire home/apt        NaN       1.0     NaN              30       82.49  "
      ]
     },
     "execution_count": 11,
     "metadata": {},
     "output_type": "execute_result"
    }
   ],
   "source": [
    "inside_airbnb_df.head()"
   ]
  },
  {
   "cell_type": "code",
   "execution_count": 12,
   "id": "911b5ec9-b8aa-46dd-b328-b9c728a026db",
   "metadata": {},
   "outputs": [
    {
     "data": {
      "text/plain": [
       "(2059, 10)"
      ]
     },
     "execution_count": 12,
     "metadata": {},
     "output_type": "execute_result"
    }
   ],
   "source": [
    "inside_airbnb_df.shape"
   ]
  },
  {
   "cell_type": "code",
   "execution_count": null,
   "id": "14ac4c98-8b87-4bbd-a7c7-6bb308eaec4b",
   "metadata": {},
   "outputs": [],
   "source": [
    "BROAD_CATEGORIES = [\n",
    "    (\"Grocery Store\", [\"supermarket\", \"grocery\", \"convenience store\", \"gourmet\", \"butcher\"]),\n",
    "    (\"Restaurant\", [\"restaurant\", \"bbq\", \"steakhouse\", \"diner\", \"sushi\", \"cuisine\", \"brasserie\", \"joint\",\n",
    "                    \"pizzeria\", \"parlor\", \"fish\", \"chips\", \"bistro\", \"dining\"]),\n",
    "    (\"Cafe\", [\"coffee\", \"cafe\", \"tea\", \"bakery\", \"dessert\", \"café\", \"drinking\", \"breakfast\"]),\n",
    "    (\"Nightlife\", [\"bar\", \"pub\", \"club\", \"lounge\", \"casino\"]),\n",
    "    (\"Retail\", [\"shopping\", \"store\", \"mall\", \"market\", \"food\", \"beverage\", \"boutique\", \"office\", \"plaza\"]),\n",
    "    (\"Fitness\", [\"gym\", \"fitness\", \"yoga\", \"crossfit\", \"martial arts\", \"tennis\", \"sports\", \"football\", \"cricket\"]),\n",
    "    (\"Wellness\", [\"spa\", \"massage\", \"therapy\", \"sauna\", \"escape room\"]),\n",
    "    (\"Entertainment\", [\"theater\", \"cinema\", \"concert\", \"comedy\", \"recreation\", \"bingo\", \"music\", \"auditorium\", \"jazz\", \"blues\", \"stadium\"]),\n",
    "    (\"Cultural\", [\"museum\", \"art\", \"gallery\", \"library\", \"historic\", \"landmarks\", \"monument\"]),\n",
    "    (\"Outdoor\", [\"park\", \"trail\", \"beach\", \"zoo\", \"hiking\", \"playground\", \"outdoors\"]),\n",
    "    (\"Transport\", [\"train\", \"bus\", \"subway\", \"parking\", \"taxi\", \"tube\", \"dealership\", \"automotive\", \"car rental\", \"shipping\", \"motorcycle\", \"fuel station\"]),\n",
    "    (\"Healthcare\", [\"hospital\", \"clinic\", \"pharmacy\", \"dentist\", \"veterinary\", \"medicine\", \"doctor\", \"surgeon\", \"surgery\", \"healthcare\",\n",
    "                    \"physiotherapist\", \"physician\", \"psycho\", \"assisted living\", \"medical\", \"nutritionist\", \"ambulance\"]),\n",
    "    (\"Services\", [\"bank\", \"atm\", \"post\", \"salon\", \"barber\", \"laundry\", \"child care\", \"agency\", \"photographer\", \"chimney\",\n",
    "                  \"pet\", \"wedding\", \"architecture\", \"upholstery\", \"cleaning\", \"computer\", \"photography\", \"audiovisual\"]),\n",
    "    (\"Organization\", [\"community\", \"government\", \"assistance\", \"legal\", \"environmental\", \"non-profit\", \"charity\", \"youth\",\n",
    "                      \"disabled\", \"military\", \"embassy\", \"consulate\", \"agriculture\", \"forestry\"]),\n",
    "    (\"Education\", [\"school\", \"learning\", \"tutoring\", \"preschool\", \"kindergarten\", \"university\", \"college\"]),\n",
    "    (\"Religion\", [\"church\", \"cathedral\", \"seminary\", \"mosque\", \"temple\", \"synagogue\", \"faith\", \"monastery\", \"cemetery\", \"spiritual\"]),\n",
    "    (\"Home Improvement\", [\"hvac\", \"home\", \"heating ventilating air conditioning\", \"landscape\", \"garden\", \"smith\", \"contractor\",\n",
    "                          \"construction\", \"carpenter\", \"builder\", \"plumber\", \"housing\", \"electrician\", \"locksmith\"]),\n",
    "]"
   ]
  },
  {
   "cell_type": "code",
   "execution_count": null,
   "id": "6e090bdf-c59f-40c1-97f7-6b655825942c",
   "metadata": {},
   "outputs": [],
   "source": [
    "def classify_category(category_name):\n",
    "    category_name_lower = category_name.lower()\n",
    "    for broad_category, keywords in BROAD_CATEGORIES:\n",
    "        if any(keyword in category_name_lower for keyword in keywords):\n",
    "            return broad_category\n",
    "    return category_name"
   ]
  },
  {
   "cell_type": "code",
   "execution_count": null,
   "id": "f2791d46-af3c-40fb-a66d-3f0e8b1c5582",
   "metadata": {},
   "outputs": [],
   "source": [
    "def get_nearby_categories(lat, lon, radius=100, limit=3):\n",
    "    if not FOURSQUARE_API_KEY:\n",
    "        return \"API key missing\"\n",
    "\n",
    "    headers = {\n",
    "        \"Authorization\": FOURSQUARE_API_KEY,\n",
    "        \"Accept\": \"application/json\"\n",
    "    }\n",
    "    params = {\n",
    "        \"ll\": f\"{lat},{lon}\",\n",
    "        \"radius\": radius,\n",
    "        \"limit\": limit\n",
    "    }\n",
    "    \n",
    "    response = requests.get(FOURSQUARE_URL, headers=headers, params=params)\n",
    "    \n",
    "    if response.status_code == 200:\n",
    "        data = response.json()\n",
    "        categories = set()\n",
    "        for place in data.get('results', []):\n",
    "            category_list = place.get('categories', [])\n",
    "            if category_list:\n",
    "                category_name = category_list[0]['name']\n",
    "                broad_category = classify_category(category_name)\n",
    "                categories.add(broad_category)\n",
    "        \n",
    "        return ', '.join(categories) if categories else \"None\"\n",
    "    else:\n",
    "        return f\"API error: {response.status_code}\""
   ]
  },
  {
   "cell_type": "code",
   "execution_count": null,
   "id": "e649580d-23de-40a6-bcb2-6446dfe62e1d",
   "metadata": {},
   "outputs": [],
   "source": [
    "inside_airbnb_df.loc['amenities'] = inside_airbnb_df.apply(lambda row: get_nearby_categories(row['latitude'], row['longitude']), axis=1)"
   ]
  },
  {
   "cell_type": "code",
   "execution_count": null,
   "id": "d19ade63-434e-4c1d-a549-aefef3607769",
   "metadata": {},
   "outputs": [],
   "source": [
    "inside_airbnb_df.head()"
   ]
  },
  {
   "cell_type": "code",
   "execution_count": null,
   "id": "d9f2ba45-eed0-4148-b11b-ebd0982109f3",
   "metadata": {},
   "outputs": [],
   "source": []
  }
 ],
 "metadata": {
  "kernelspec": {
   "display_name": "Python 3 (ipykernel)",
   "language": "python",
   "name": "python3"
  },
  "language_info": {
   "codemirror_mode": {
    "name": "ipython",
    "version": 3
   },
   "file_extension": ".py",
   "mimetype": "text/x-python",
   "name": "python",
   "nbconvert_exporter": "python",
   "pygments_lexer": "ipython3",
   "version": "3.11.11"
  }
 },
 "nbformat": 4,
 "nbformat_minor": 5
}
