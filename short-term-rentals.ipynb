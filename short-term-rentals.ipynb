{
 "cells": [
  {
   "cell_type": "code",
   "execution_count": 1,
   "id": "e6e4518b-09bf-4dbc-abe1-acdc0b4849d6",
   "metadata": {},
   "outputs": [],
   "source": [
    "from pathlib import Path\n",
    "import pandas as pd\n",
    "import requests\n",
    "import os\n",
    "import re\n",
    "from collections import Counter\n",
    "from geopy.distance import geodesic\n",
    "from scipy.spatial import KDTree\n",
    "import numpy as np"
   ]
  },
  {
   "cell_type": "code",
   "execution_count": 2,
   "id": "061acdca-8825-4593-93a5-de9826521c44",
   "metadata": {},
   "outputs": [],
   "source": [
    "pd.options.display.max_rows = None"
   ]
  },
  {
   "cell_type": "code",
   "execution_count": 3,
   "id": "b15b79f2-f162-4699-9284-4c7b8c1b3b5e",
   "metadata": {},
   "outputs": [],
   "source": [
    "home_dir = Path.home()\n",
    "inside_airbnb_data_dir = home_dir / 'Programming/data/inside-airbnb/london'"
   ]
  },
  {
   "cell_type": "code",
   "execution_count": 4,
   "id": "a6122644-82c1-498e-bbd6-c1fd6b9ce410",
   "metadata": {},
   "outputs": [],
   "source": [
    "TFL_API_URL = \"https://api.tfl.gov.uk/StopPoint/Mode/tube\""
   ]
  },
  {
   "cell_type": "code",
   "execution_count": 5,
   "id": "d746b606-3619-4d77-a0c5-f556707cb409",
   "metadata": {},
   "outputs": [],
   "source": [
    "inside_airbnb_data_file = inside_airbnb_data_dir / 'selected_short_term_rentals.csv'\n",
    "inside_airbnb_df = pd.read_csv(inside_airbnb_data_file)"
   ]
  },
  {
   "cell_type": "code",
   "execution_count": 6,
   "id": "52dd82f2-dc31-485f-90bb-3e7db7061784",
   "metadata": {},
   "outputs": [],
   "source": [
    "response = requests.get(TFL_API_URL)\n",
    "if response.status_code == 200:\n",
    "    data = response.json()\n",
    "else:\n",
    "    raise Exception(f\"API error: {response.status_code}\")"
   ]
  },
  {
   "cell_type": "code",
   "execution_count": 7,
   "id": "74bd00e4-a470-4c95-8d61-93bae4e5be10",
   "metadata": {},
   "outputs": [],
   "source": [
    "tube_stations = []\n",
    "for stop_point in data[\"stopPoints\"]:\n",
    "    lat, lon = stop_point[\"lat\"], stop_point[\"lon\"]\n",
    "    station_name = stop_point[\"commonName\"]\n",
    "    tube_stations.append((station_name, lat, lon))"
   ]
  },
  {
   "cell_type": "code",
   "execution_count": 8,
   "id": "aefee575-0236-4062-833c-5d1d3eaeef67",
   "metadata": {},
   "outputs": [],
   "source": [
    "tube_df = pd.DataFrame(tube_stations, columns=[\"Station\", \"Latitude\", \"Longitude\"])\n",
    "tube_coords = np.array(tube_df[['Latitude', 'Longitude']])\n",
    "tree = KDTree(tube_coords)"
   ]
  },
  {
   "cell_type": "code",
   "execution_count": 9,
   "id": "58fb3403-7553-4141-9b20-6a99baf12b42",
   "metadata": {},
   "outputs": [],
   "source": [
    "def find_nearest_station(lat, lon):\n",
    "    _, index = tree.query([lat, lon])\n",
    "    nearest_station = tube_df.iloc[index]\n",
    "    distance = geodesic((lat, lon), (nearest_station.Latitude, nearest_station.Longitude)).kilometers\n",
    "    return nearest_station.Station.replace(\" Underground Station\", \"\").replace(\" Station\", \"\"), distance"
   ]
  },
  {
   "cell_type": "code",
   "execution_count": 10,
   "id": "38058ec9-8f72-4072-b699-477063240993",
   "metadata": {},
   "outputs": [],
   "source": [
    "inside_airbnb_df[['nearest_station', 'distance_to_station']] = inside_airbnb_df.apply(\n",
    "    lambda row: find_nearest_station(row['latitude'], row['longitude']), axis=1, result_type='expand'\n",
    ")"
   ]
  },
  {
   "cell_type": "code",
   "execution_count": 11,
   "id": "68fc5ea7-f355-42bc-9966-ca1a051e04ff",
   "metadata": {},
   "outputs": [],
   "source": [
    "inside_airbnb_df.to_csv(inside_airbnb_data_dir / 'selected_short_term_rentals_with_distances.csv', index=False)"
   ]
  },
  {
   "cell_type": "code",
   "execution_count": null,
   "id": "8b1fef73-bc3a-45eb-bcf6-e2f68cf67676",
   "metadata": {},
   "outputs": [],
   "source": []
  }
 ],
 "metadata": {
  "kernelspec": {
   "display_name": "Python 3 (ipykernel)",
   "language": "python",
   "name": "python3"
  },
  "language_info": {
   "codemirror_mode": {
    "name": "ipython",
    "version": 3
   },
   "file_extension": ".py",
   "mimetype": "text/x-python",
   "name": "python",
   "nbconvert_exporter": "python",
   "pygments_lexer": "ipython3",
   "version": "3.11.11"
  }
 },
 "nbformat": 4,
 "nbformat_minor": 5
}
