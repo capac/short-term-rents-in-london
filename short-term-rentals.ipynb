{
 "cells": [
  {
   "cell_type": "code",
   "execution_count": 1,
   "id": "e6e4518b-09bf-4dbc-abe1-acdc0b4849d6",
   "metadata": {},
   "outputs": [],
   "source": [
    "from pathlib import Path\n",
    "import pandas as pd"
   ]
  },
  {
   "cell_type": "code",
   "execution_count": 2,
   "id": "b15b79f2-f162-4699-9284-4c7b8c1b3b5e",
   "metadata": {},
   "outputs": [],
   "source": [
    "home_dir = Path.home()\n",
    "inside_airbnb_data_dir = home_dir / 'Programming/data/inside-airbnb/london'\n",
    "population_dataset_england_wales_data_dir = home_dir / 'Programming/data/office-national-statistics/population-dataset-england-wales/'\n",
    "crime_rate_dir = home_dir / 'Programming/data/crime-rate/'"
   ]
  },
  {
   "cell_type": "code",
   "execution_count": 3,
   "id": "7be29204-7e75-4be6-9291-a28cc476f5fa",
   "metadata": {},
   "outputs": [],
   "source": [
    "inside_airbnb_data_file = inside_airbnb_data_dir / 'listings.csv'\n",
    "population_dataset_england_wales_data_file = population_dataset_england_wales_data_dir / 'mye23tablesew.xlsx'\n",
    "crime_rate_data_file = crime_rate_dir / 'crimerate-pro-data-table-rmp-region-towns-cities.csv'"
   ]
  },
  {
   "cell_type": "code",
   "execution_count": 4,
   "id": "cacd24f8-0285-4007-a322-240ef2147705",
   "metadata": {},
   "outputs": [],
   "source": [
    "crime_rate_df = pd.read_csv(crime_rate_data_file, usecols=['Borough', 'Crime Rate'])\n",
    "crime_rate_df.rename(columns={'Borough': 'borough', 'Crime Rate': 'crime_rate'}, inplace=True)\n",
    "crime_rate_df = crime_rate_df[crime_rate_df.borough != 'DownloadCSVExcelTSV']"
   ]
  },
  {
   "cell_type": "code",
   "execution_count": 9,
   "id": "d746b606-3619-4d77-a0c5-f556707cb409",
   "metadata": {},
   "outputs": [],
   "source": [
    "columns_list = ['neighbourhood_cleansed', 'bathrooms', 'bedrooms', 'latitude', 'longitude',\n",
    "                'room_type', 'latitude', 'longitude', 'property_type', 'price']\n",
    "inside_airbnb_df = pd.read_csv(inside_airbnb_data_file, usecols=columns_list)\n",
    "inside_airbnb_df.rename(columns={'neighbourhood_cleansed': 'borough'}, inplace=True)\n",
    "inside_airbnb_df.price = inside_airbnb_df.price.str.replace('$', '')"
   ]
  },
  {
   "cell_type": "code",
   "execution_count": 8,
   "id": "8d8916bf-84a9-49d9-a60c-2cf88464c10e",
   "metadata": {},
   "outputs": [
    {
     "data": {
      "text/html": [
       "<div>\n",
       "<style scoped>\n",
       "    .dataframe tbody tr th:only-of-type {\n",
       "        vertical-align: middle;\n",
       "    }\n",
       "\n",
       "    .dataframe tbody tr th {\n",
       "        vertical-align: top;\n",
       "    }\n",
       "\n",
       "    .dataframe thead th {\n",
       "        text-align: right;\n",
       "    }\n",
       "</style>\n",
       "<table border=\"1\" class=\"dataframe\">\n",
       "  <thead>\n",
       "    <tr style=\"text-align: right;\">\n",
       "      <th></th>\n",
       "      <th>borough</th>\n",
       "      <th>latitude</th>\n",
       "      <th>longitude</th>\n",
       "      <th>property_type</th>\n",
       "      <th>room_type</th>\n",
       "      <th>bathrooms</th>\n",
       "      <th>bedrooms</th>\n",
       "      <th>price</th>\n",
       "      <th>crime_rate</th>\n",
       "    </tr>\n",
       "  </thead>\n",
       "  <tbody>\n",
       "    <tr>\n",
       "      <th>0</th>\n",
       "      <td>Hammersmith and Fulham</td>\n",
       "      <td>51.49392</td>\n",
       "      <td>-0.22754</td>\n",
       "      <td>Entire rental unit</td>\n",
       "      <td>Entire home/apt</td>\n",
       "      <td>1.5</td>\n",
       "      <td>1.0</td>\n",
       "      <td>89.00</td>\n",
       "      <td>103.14</td>\n",
       "    </tr>\n",
       "    <tr>\n",
       "      <th>1</th>\n",
       "      <td>Tower Hamlets</td>\n",
       "      <td>51.52435</td>\n",
       "      <td>-0.06938</td>\n",
       "      <td>Entire condo</td>\n",
       "      <td>Entire home/apt</td>\n",
       "      <td>3.0</td>\n",
       "      <td>3.0</td>\n",
       "      <td>220.00</td>\n",
       "      <td>98.60</td>\n",
       "    </tr>\n",
       "    <tr>\n",
       "      <th>2</th>\n",
       "      <td>Hammersmith and Fulham</td>\n",
       "      <td>51.49547</td>\n",
       "      <td>-0.22864</td>\n",
       "      <td>Entire rental unit</td>\n",
       "      <td>Entire home/apt</td>\n",
       "      <td>1.0</td>\n",
       "      <td>1.0</td>\n",
       "      <td>88.00</td>\n",
       "      <td>103.14</td>\n",
       "    </tr>\n",
       "    <tr>\n",
       "      <th>3</th>\n",
       "      <td>Hammersmith and Fulham</td>\n",
       "      <td>51.49368</td>\n",
       "      <td>-0.22774</td>\n",
       "      <td>Room in aparthotel</td>\n",
       "      <td>Private room</td>\n",
       "      <td>1.0</td>\n",
       "      <td>1.0</td>\n",
       "      <td>75.00</td>\n",
       "      <td>103.14</td>\n",
       "    </tr>\n",
       "    <tr>\n",
       "      <th>4</th>\n",
       "      <td>Haringey</td>\n",
       "      <td>51.59031</td>\n",
       "      <td>-0.09408</td>\n",
       "      <td>Private room in rental unit</td>\n",
       "      <td>Private room</td>\n",
       "      <td>1.0</td>\n",
       "      <td>1.0</td>\n",
       "      <td>53.00</td>\n",
       "      <td>133.11</td>\n",
       "    </tr>\n",
       "  </tbody>\n",
       "</table>\n",
       "</div>"
      ],
      "text/plain": [
       "                  borough  latitude  longitude                property_type  \\\n",
       "0  Hammersmith and Fulham  51.49392   -0.22754           Entire rental unit   \n",
       "1           Tower Hamlets  51.52435   -0.06938                 Entire condo   \n",
       "2  Hammersmith and Fulham  51.49547   -0.22864           Entire rental unit   \n",
       "3  Hammersmith and Fulham  51.49368   -0.22774           Room in aparthotel   \n",
       "4                Haringey  51.59031   -0.09408  Private room in rental unit   \n",
       "\n",
       "         room_type  bathrooms  bedrooms   price  crime_rate  \n",
       "0  Entire home/apt        1.5       1.0   89.00      103.14  \n",
       "1  Entire home/apt        3.0       3.0  220.00       98.60  \n",
       "2  Entire home/apt        1.0       1.0   88.00      103.14  \n",
       "3     Private room        1.0       1.0   75.00      103.14  \n",
       "4     Private room        1.0       1.0   53.00      133.11  "
      ]
     },
     "execution_count": 8,
     "metadata": {},
     "output_type": "execute_result"
    }
   ],
   "source": [
    "inside_airbnb_df = inside_airbnb_df.merge(crime_rate_df, on='borough', how='left')\n",
    "inside_airbnb_df.head()"
   ]
  },
  {
   "cell_type": "code",
   "execution_count": null,
   "id": "ff261796-f3a1-4879-8727-3267037fa003",
   "metadata": {},
   "outputs": [],
   "source": []
  }
 ],
 "metadata": {
  "kernelspec": {
   "display_name": "Python 3 (ipykernel)",
   "language": "python",
   "name": "python3"
  },
  "language_info": {
   "codemirror_mode": {
    "name": "ipython",
    "version": 3
   },
   "file_extension": ".py",
   "mimetype": "text/x-python",
   "name": "python",
   "nbconvert_exporter": "python",
   "pygments_lexer": "ipython3",
   "version": "3.11.11"
  }
 },
 "nbformat": 4,
 "nbformat_minor": 5
}
