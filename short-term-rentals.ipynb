{
 "cells": [
  {
   "cell_type": "code",
   "execution_count": 1,
   "id": "e6e4518b-09bf-4dbc-abe1-acdc0b4849d6",
   "metadata": {},
   "outputs": [],
   "source": [
    "from pathlib import Path\n",
    "import pandas as pd\n",
    "import requests\n",
    "import os\n",
    "import re\n",
    "from collections import Counter\n",
    "from datetime import timedelta"
   ]
  },
  {
   "cell_type": "code",
   "execution_count": 2,
   "id": "061acdca-8825-4593-93a5-de9826521c44",
   "metadata": {},
   "outputs": [],
   "source": [
    "pd.options.display.max_rows = None"
   ]
  },
  {
   "cell_type": "code",
   "execution_count": 3,
   "id": "b15b79f2-f162-4699-9284-4c7b8c1b3b5e",
   "metadata": {},
   "outputs": [],
   "source": [
    "home_dir = Path.home()\n",
    "inside_airbnb_data_dir = home_dir / 'Programming/data/inside-airbnb/london'\n",
    "crime_rate_dir = home_dir / 'Programming/data/crime-rate/'"
   ]
  },
  {
   "cell_type": "code",
   "execution_count": 4,
   "id": "a6122644-82c1-498e-bbd6-c1fd6b9ce410",
   "metadata": {},
   "outputs": [],
   "source": [
    "FOURSQUARE_API_KEY = os.environ['FOURSQUARE_API_KEY']\n",
    "FOURSQUARE_URL = \"https://api.foursquare.com/v3/places/search\""
   ]
  },
  {
   "cell_type": "code",
   "execution_count": 5,
   "id": "7be29204-7e75-4be6-9291-a28cc476f5fa",
   "metadata": {},
   "outputs": [],
   "source": [
    "inside_airbnb_data_file = inside_airbnb_data_dir / 'listings.csv'\n",
    "crime_rate_data_file = crime_rate_dir / 'crimerate-pro-data-table-rmp-region-towns-cities.csv'"
   ]
  },
  {
   "cell_type": "code",
   "execution_count": 6,
   "id": "cacd24f8-0285-4007-a322-240ef2147705",
   "metadata": {},
   "outputs": [],
   "source": [
    "crime_rate_df = pd.read_csv(crime_rate_data_file, usecols=['Borough', 'Crime Rate'])\n",
    "crime_rate_df.rename(columns={'Borough': 'borough', 'Crime Rate': 'crime_rate'}, inplace=True)\n",
    "crime_rate_df = crime_rate_df[crime_rate_df.borough != 'DownloadCSVExcelTSV']"
   ]
  },
  {
   "cell_type": "code",
   "execution_count": 18,
   "id": "d746b606-3619-4d77-a0c5-f556707cb409",
   "metadata": {},
   "outputs": [],
   "source": [
    "columns_list = ['neighbourhood_cleansed', 'latitude', 'longitude', 'accommodates', 'bedrooms', 'bathrooms',\n",
    "                'property_type', 'room_type', 'availability_365', 'calendar_last_scraped', 'last_review', 'price']\n",
    "inside_airbnb_df = pd.read_csv(inside_airbnb_data_file, usecols=columns_list, parse_dates=['calendar_last_scraped', 'last_review'], date_format=\"%d/%m/%Y\")\n",
    "inside_airbnb_df.rename(columns={'neighbourhood_cleansed': 'borough'}, inplace=True)\n",
    "inside_airbnb_df.price = inside_airbnb_df.price.str.replace('$', '')"
   ]
  },
  {
   "cell_type": "code",
   "execution_count": 19,
   "id": "f2d2bee9-a262-4f2e-bfab-212a895fad0a",
   "metadata": {},
   "outputs": [
    {
     "name": "stdout",
     "output_type": "stream",
     "text": [
      "<class 'pandas.core.frame.DataFrame'>\n",
      "RangeIndex: 95144 entries, 0 to 95143\n",
      "Data columns (total 12 columns):\n",
      " #   Column                 Non-Null Count  Dtype         \n",
      "---  ------                 --------------  -----         \n",
      " 0   borough                95144 non-null  object        \n",
      " 1   latitude               95144 non-null  float64       \n",
      " 2   longitude              95144 non-null  float64       \n",
      " 3   property_type          95144 non-null  object        \n",
      " 4   room_type              95144 non-null  object        \n",
      " 5   accommodates           95144 non-null  int64         \n",
      " 6   bathrooms              62744 non-null  float64       \n",
      " 7   bedrooms               82794 non-null  float64       \n",
      " 8   price                  62777 non-null  object        \n",
      " 9   availability_365       95144 non-null  int64         \n",
      " 10  calendar_last_scraped  95144 non-null  datetime64[ns]\n",
      " 11  last_review            70560 non-null  datetime64[ns]\n",
      "dtypes: datetime64[ns](2), float64(4), int64(2), object(4)\n",
      "memory usage: 8.7+ MB\n"
     ]
    }
   ],
   "source": [
    "inside_airbnb_df.info()"
   ]
  },
  {
   "cell_type": "code",
   "execution_count": 20,
   "id": "d1b0f688-cf2b-43f2-8037-182d6cf05306",
   "metadata": {},
   "outputs": [],
   "source": [
    "inside_airbnb_df = inside_airbnb_df.loc[(inside_airbnb_df.bathrooms.notna() & inside_airbnb_df.bedrooms.notna())]\n",
    "inside_airbnb_df = inside_airbnb_df.loc[(inside_airbnb_df.price.notna() & inside_airbnb_df.last_review.notna())]"
   ]
  },
  {
   "cell_type": "code",
   "execution_count": 21,
   "id": "ee38ebfb-129a-402d-b3d6-22e49e6291a3",
   "metadata": {},
   "outputs": [
    {
     "name": "stdout",
     "output_type": "stream",
     "text": [
      "<class 'pandas.core.frame.DataFrame'>\n",
      "Index: 48186 entries, 0 to 95065\n",
      "Data columns (total 12 columns):\n",
      " #   Column                 Non-Null Count  Dtype         \n",
      "---  ------                 --------------  -----         \n",
      " 0   borough                48186 non-null  object        \n",
      " 1   latitude               48186 non-null  float64       \n",
      " 2   longitude              48186 non-null  float64       \n",
      " 3   property_type          48186 non-null  object        \n",
      " 4   room_type              48186 non-null  object        \n",
      " 5   accommodates           48186 non-null  int64         \n",
      " 6   bathrooms              48186 non-null  float64       \n",
      " 7   bedrooms               48186 non-null  float64       \n",
      " 8   price                  48186 non-null  object        \n",
      " 9   availability_365       48186 non-null  int64         \n",
      " 10  calendar_last_scraped  48186 non-null  datetime64[ns]\n",
      " 11  last_review            48186 non-null  datetime64[ns]\n",
      "dtypes: datetime64[ns](2), float64(4), int64(2), object(4)\n",
      "memory usage: 4.8+ MB\n"
     ]
    }
   ],
   "source": [
    "inside_airbnb_df.info()"
   ]
  },
  {
   "cell_type": "code",
   "execution_count": 22,
   "id": "68834d4c-a033-4f98-9e75-53f2b64d2c61",
   "metadata": {},
   "outputs": [],
   "source": [
    "inside_airbnb_df = inside_airbnb_df[(inside_airbnb_df.calendar_last_scraped - inside_airbnb_df.last_review) < timedelta(days=182)]"
   ]
  },
  {
   "cell_type": "code",
   "execution_count": 23,
   "id": "16527777-1ff4-4436-9cb2-bb4ba4c8b394",
   "metadata": {},
   "outputs": [],
   "source": [
    "inside_airbnb_df = inside_airbnb_df[(inside_airbnb_df.groupby('property_type')['property_type'].transform('size') > 30)]"
   ]
  },
  {
   "cell_type": "code",
   "execution_count": 24,
   "id": "445adc6a-8892-4821-8f80-bbd6f0ba601f",
   "metadata": {},
   "outputs": [
    {
     "name": "stdout",
     "output_type": "stream",
     "text": [
      "<class 'pandas.core.frame.DataFrame'>\n",
      "Index: 37871 entries, 0 to 95065\n",
      "Data columns (total 12 columns):\n",
      " #   Column                 Non-Null Count  Dtype         \n",
      "---  ------                 --------------  -----         \n",
      " 0   borough                37871 non-null  object        \n",
      " 1   latitude               37871 non-null  float64       \n",
      " 2   longitude              37871 non-null  float64       \n",
      " 3   property_type          37871 non-null  object        \n",
      " 4   room_type              37871 non-null  object        \n",
      " 5   accommodates           37871 non-null  int64         \n",
      " 6   bathrooms              37871 non-null  float64       \n",
      " 7   bedrooms               37871 non-null  float64       \n",
      " 8   price                  37871 non-null  object        \n",
      " 9   availability_365       37871 non-null  int64         \n",
      " 10  calendar_last_scraped  37871 non-null  datetime64[ns]\n",
      " 11  last_review            37871 non-null  datetime64[ns]\n",
      "dtypes: datetime64[ns](2), float64(4), int64(2), object(4)\n",
      "memory usage: 3.8+ MB\n"
     ]
    }
   ],
   "source": [
    "inside_airbnb_df.info()"
   ]
  },
  {
   "cell_type": "code",
   "execution_count": 26,
   "id": "d35e1009-60b3-4ae7-b220-547801557445",
   "metadata": {},
   "outputs": [],
   "source": [
    "inside_airbnb_df = inside_airbnb_df[(365 - inside_airbnb_df.availability_365 > 90)]"
   ]
  },
  {
   "cell_type": "code",
   "execution_count": 27,
   "id": "94a250db-bb41-4848-807d-5fabcfb550bd",
   "metadata": {},
   "outputs": [
    {
     "name": "stdout",
     "output_type": "stream",
     "text": [
      "<class 'pandas.core.frame.DataFrame'>\n",
      "Index: 26767 entries, 0 to 95065\n",
      "Data columns (total 12 columns):\n",
      " #   Column                 Non-Null Count  Dtype         \n",
      "---  ------                 --------------  -----         \n",
      " 0   borough                26767 non-null  object        \n",
      " 1   latitude               26767 non-null  float64       \n",
      " 2   longitude              26767 non-null  float64       \n",
      " 3   property_type          26767 non-null  object        \n",
      " 4   room_type              26767 non-null  object        \n",
      " 5   accommodates           26767 non-null  int64         \n",
      " 6   bathrooms              26767 non-null  float64       \n",
      " 7   bedrooms               26767 non-null  float64       \n",
      " 8   price                  26767 non-null  object        \n",
      " 9   availability_365       26767 non-null  int64         \n",
      " 10  calendar_last_scraped  26767 non-null  datetime64[ns]\n",
      " 11  last_review            26767 non-null  datetime64[ns]\n",
      "dtypes: datetime64[ns](2), float64(4), int64(2), object(4)\n",
      "memory usage: 2.7+ MB\n"
     ]
    }
   ],
   "source": [
    "inside_airbnb_df.info()"
   ]
  },
  {
   "cell_type": "code",
   "execution_count": 35,
   "id": "8d8916bf-84a9-49d9-a60c-2cf88464c10e",
   "metadata": {},
   "outputs": [],
   "source": [
    "inside_airbnb_df = inside_airbnb_df.merge(crime_rate_df, on='borough', how='left')"
   ]
  },
  {
   "cell_type": "code",
   "execution_count": 36,
   "id": "ef84e183-d5ad-4673-964b-02016ad034c5",
   "metadata": {},
   "outputs": [
    {
     "name": "stdout",
     "output_type": "stream",
     "text": [
      "<class 'pandas.core.frame.DataFrame'>\n",
      "RangeIndex: 26767 entries, 0 to 26766\n",
      "Data columns (total 13 columns):\n",
      " #   Column                 Non-Null Count  Dtype         \n",
      "---  ------                 --------------  -----         \n",
      " 0   borough                26767 non-null  object        \n",
      " 1   latitude               26767 non-null  float64       \n",
      " 2   longitude              26767 non-null  float64       \n",
      " 3   property_type          26767 non-null  object        \n",
      " 4   room_type              26767 non-null  object        \n",
      " 5   accommodates           26767 non-null  int64         \n",
      " 6   bathrooms              26767 non-null  float64       \n",
      " 7   bedrooms               26767 non-null  float64       \n",
      " 8   price                  26767 non-null  object        \n",
      " 9   availability_365       26767 non-null  int64         \n",
      " 10  calendar_last_scraped  26767 non-null  datetime64[ns]\n",
      " 11  last_review            26767 non-null  datetime64[ns]\n",
      " 12  crime_rate             26767 non-null  float64       \n",
      "dtypes: datetime64[ns](2), float64(5), int64(2), object(4)\n",
      "memory usage: 2.7+ MB\n"
     ]
    }
   ],
   "source": [
    "inside_airbnb_df.info()"
   ]
  },
  {
   "cell_type": "code",
   "execution_count": 37,
   "id": "0535f59f-08cb-49e7-8bb9-69b41b242c0b",
   "metadata": {},
   "outputs": [
    {
     "data": {
      "text/html": [
       "<div>\n",
       "<style scoped>\n",
       "    .dataframe tbody tr th:only-of-type {\n",
       "        vertical-align: middle;\n",
       "    }\n",
       "\n",
       "    .dataframe tbody tr th {\n",
       "        vertical-align: top;\n",
       "    }\n",
       "\n",
       "    .dataframe thead th {\n",
       "        text-align: right;\n",
       "    }\n",
       "</style>\n",
       "<table border=\"1\" class=\"dataframe\">\n",
       "  <thead>\n",
       "    <tr style=\"text-align: right;\">\n",
       "      <th></th>\n",
       "      <th>borough</th>\n",
       "      <th>latitude</th>\n",
       "      <th>longitude</th>\n",
       "      <th>property_type</th>\n",
       "      <th>room_type</th>\n",
       "      <th>accommodates</th>\n",
       "      <th>bathrooms</th>\n",
       "      <th>bedrooms</th>\n",
       "      <th>price</th>\n",
       "      <th>availability_365</th>\n",
       "      <th>calendar_last_scraped</th>\n",
       "      <th>last_review</th>\n",
       "      <th>crime_rate</th>\n",
       "    </tr>\n",
       "  </thead>\n",
       "  <tbody>\n",
       "    <tr>\n",
       "      <th>0</th>\n",
       "      <td>Hammersmith and Fulham</td>\n",
       "      <td>51.49392</td>\n",
       "      <td>-0.22754</td>\n",
       "      <td>Entire rental unit</td>\n",
       "      <td>Entire home/apt</td>\n",
       "      <td>2</td>\n",
       "      <td>1.5</td>\n",
       "      <td>1.0</td>\n",
       "      <td>89.00</td>\n",
       "      <td>22</td>\n",
       "      <td>2024-12-12</td>\n",
       "      <td>2024-11-17</td>\n",
       "      <td>103.14</td>\n",
       "    </tr>\n",
       "    <tr>\n",
       "      <th>1</th>\n",
       "      <td>Hammersmith and Fulham</td>\n",
       "      <td>51.49547</td>\n",
       "      <td>-0.22864</td>\n",
       "      <td>Entire rental unit</td>\n",
       "      <td>Entire home/apt</td>\n",
       "      <td>2</td>\n",
       "      <td>1.0</td>\n",
       "      <td>1.0</td>\n",
       "      <td>88.00</td>\n",
       "      <td>149</td>\n",
       "      <td>2024-12-12</td>\n",
       "      <td>2024-11-14</td>\n",
       "      <td>103.14</td>\n",
       "    </tr>\n",
       "    <tr>\n",
       "      <th>2</th>\n",
       "      <td>Hammersmith and Fulham</td>\n",
       "      <td>51.49368</td>\n",
       "      <td>-0.22774</td>\n",
       "      <td>Room in aparthotel</td>\n",
       "      <td>Private room</td>\n",
       "      <td>2</td>\n",
       "      <td>1.0</td>\n",
       "      <td>1.0</td>\n",
       "      <td>75.00</td>\n",
       "      <td>62</td>\n",
       "      <td>2024-12-11</td>\n",
       "      <td>2024-11-26</td>\n",
       "      <td>103.14</td>\n",
       "    </tr>\n",
       "    <tr>\n",
       "      <th>3</th>\n",
       "      <td>Lambeth</td>\n",
       "      <td>51.46156</td>\n",
       "      <td>-0.11183</td>\n",
       "      <td>Entire condo</td>\n",
       "      <td>Entire home/apt</td>\n",
       "      <td>6</td>\n",
       "      <td>2.0</td>\n",
       "      <td>2.0</td>\n",
       "      <td>120.00</td>\n",
       "      <td>32</td>\n",
       "      <td>2024-12-11</td>\n",
       "      <td>2024-07-20</td>\n",
       "      <td>137.98</td>\n",
       "    </tr>\n",
       "    <tr>\n",
       "      <th>4</th>\n",
       "      <td>Camden</td>\n",
       "      <td>51.54417</td>\n",
       "      <td>-0.14651</td>\n",
       "      <td>Private room in home</td>\n",
       "      <td>Private room</td>\n",
       "      <td>4</td>\n",
       "      <td>1.5</td>\n",
       "      <td>1.0</td>\n",
       "      <td>83.00</td>\n",
       "      <td>147</td>\n",
       "      <td>2024-12-12</td>\n",
       "      <td>2024-12-01</td>\n",
       "      <td>108.07</td>\n",
       "    </tr>\n",
       "  </tbody>\n",
       "</table>\n",
       "</div>"
      ],
      "text/plain": [
       "                  borough  latitude  longitude         property_type  \\\n",
       "0  Hammersmith and Fulham  51.49392   -0.22754    Entire rental unit   \n",
       "1  Hammersmith and Fulham  51.49547   -0.22864    Entire rental unit   \n",
       "2  Hammersmith and Fulham  51.49368   -0.22774    Room in aparthotel   \n",
       "3                 Lambeth  51.46156   -0.11183          Entire condo   \n",
       "4                  Camden  51.54417   -0.14651  Private room in home   \n",
       "\n",
       "         room_type  accommodates  bathrooms  bedrooms   price  \\\n",
       "0  Entire home/apt             2        1.5       1.0   89.00   \n",
       "1  Entire home/apt             2        1.0       1.0   88.00   \n",
       "2     Private room             2        1.0       1.0   75.00   \n",
       "3  Entire home/apt             6        2.0       2.0  120.00   \n",
       "4     Private room             4        1.5       1.0   83.00   \n",
       "\n",
       "   availability_365 calendar_last_scraped last_review  crime_rate  \n",
       "0                22            2024-12-12  2024-11-17      103.14  \n",
       "1               149            2024-12-12  2024-11-14      103.14  \n",
       "2                62            2024-12-11  2024-11-26      103.14  \n",
       "3                32            2024-12-11  2024-07-20      137.98  \n",
       "4               147            2024-12-12  2024-12-01      108.07  "
      ]
     },
     "execution_count": 37,
     "metadata": {},
     "output_type": "execute_result"
    }
   ],
   "source": [
    "inside_airbnb_df.head()"
   ]
  },
  {
   "cell_type": "code",
   "execution_count": null,
   "id": "14ac4c98-8b87-4bbd-a7c7-6bb308eaec4b",
   "metadata": {},
   "outputs": [],
   "source": [
    "BROAD_CATEGORIES = [\n",
    "    (\"Grocery Store\", [\"supermarket\", \"grocery\", \"convenience store\", \"gourmet\", \"butcher\"]),\n",
    "    (\"Restaurant\", [\"restaurant\", \"bbq\", \"steakhouse\", \"diner\", \"sushi\", \"cuisine\", \"brasserie\", \"joint\", \"buffet\",\n",
    "                    \"pizzeria\", \"parlor\", \"fish\", \"chips\", \"bistro\", \"dining\", \"buffet\", \"deli\"]),\n",
    "    (\"Cafe\", [\"coffee\", \"cafe\", \"tea\", \"bakery\", \"dessert\", \"café\", \"drinking\", \"breakfast\", \"gelato shop\",\n",
    "              \"bagel\", \"sandwich\", \"snack\", \"cupcake\", \"pastry\"]),\n",
    "    (\"Nightlife\", [\"bar\", \"pub\", \"club\", \"lounge\", \"casino\", \"speakeasy\", \"brewery\", \"roof deck\"]),\n",
    "    (\"Retail\", [\"shopping\", \"store\", \"mall\", \"market\", \"food\", \"beverage\", \"boutique\", \"office\", \"plaza\"]),\n",
    "    (\"Fitness\", [\"gym\", \"fitness\", \"yoga\", \"crossfit\", \"martial arts\", \"tennis\", \"sports\", \"football\", \"cricket\", \"stable\",\n",
    "                 \"swimming\", \"bowling\", \"skating\", \"sporting\", \"sport\", \"soccer\"]),\n",
    "    (\"Wellness\", [\"spa\", \"massage\", \"therapy\", \"sauna\", \"escape room\", \"psychic\", \"astrologer\"]),\n",
    "    (\"Entertainment\", [\"theater\", \"cinema\", \"concert\", \"comedy\", \"recreation\", \"bingo\", \"music\", \"auditorium\", \"jazz\",\n",
    "                       \"blues\", \"stadium\", \"gun\", \"race\", \"track\"]),\n",
    "    (\"Cultural\", [\"museum\", \"art\", \"gallery\", \"library\", \"historic\", \"landmarks\", \"monument\", \"tour\", \"opera\", \"exhibit\", \"memorial\"]),\n",
    "    (\"Outdoor\", [\"park\", \"trail\", \"beach\", \"zoo\", \"hiking\", \"playground\", \"outdoors\", \"tunnel\", \"fountain\",\n",
    "                 \"scenic\", \"nature\", \"aquarium\", \"campground\", \"camp\", \"farm\", \"canal\"]),\n",
    "    (\"Transport\", [\"train\", \"bus\", \"subway\", \"parking\", \"taxi\", \"tube\", \"dealership\", \"automotive\", \"car rental\",\n",
    "                   \"shipping\", \"motorcycle\", \"fuel station\", \"harbor\", \"marina\"]),\n",
    "    (\"Healthcare\", [\"hospital\", \"clinic\", \"pharmacy\", \"dentist\", \"veterinary\", \"medicine\", \"doctor\", \"surgeon\", \"surgery\", \"healthcare\",\n",
    "                    \"physiotherapist\", \"physician\", \"psycho\", \"assisted living\", \"medical\", \"nutritionist\", \"ambulance\"]),\n",
    "    (\"Services\", [\"bank\", \"atm\", \"post\", \"salon\", \"barber\", \"laundry\", \"child care\", \"agency\", \"photographer\", \"chimney\",\n",
    "                  \"veterinarian\", \"telecommunication\", \"pet\", \"wedding\", \"architecture\", \"upholstery\", \"cleaning\", \"computer\",\n",
    "                  \"photography\", \"audiovisual\", \"manufacturer\", \"auction\", \"designer\", \"event\", \"renewable energy\", \"hotel\", \"wholesaler\"]),\n",
    "    (\"Organization\", [\"community\", \"government\", \"assistance\", \"legal\", \"environmental\", \"non-profit\", \"charity\", \"youth\", \"city hall\",\n",
    "                      \"disabled\", \"military\", \"embassy\", \"consulate\", \"agriculture\", \"forestry\", \"courthouse\", \"police\", \"fire\", \"station\"]),\n",
    "    (\"Education\", [\"school\", \"learning\", \"tutoring\", \"preschool\", \"kindergarten\", \"university\", \"college\", \"education\"]),\n",
    "    (\"Religion\", [\"church\", \"cathedral\", \"seminary\", \"mosque\", \"temple\", \"synagogue\", \"faith\", \"monastery\", \"cemetery\", \"spiritual\", \"kingdom hall\"]),\n",
    "    (\"Home Improvement\", [\"hvac\", \"home\", \"heating ventilating air conditioning\", \"landscape\", \"garden\", \"smith\", \"contractor\",\n",
    "                          \"construction\", \"carpenter\", \"builder\", \"plumber\", \"housing\", \"electrician\", \"locksmith\", \"real estate\"]),\n",
    "]"
   ]
  },
  {
   "cell_type": "code",
   "execution_count": null,
   "id": "6e090bdf-c59f-40c1-97f7-6b655825942c",
   "metadata": {},
   "outputs": [],
   "source": [
    "def classify_category(category_name):\n",
    "    category_name_lower = category_name.lower()\n",
    "    for broad_category, keywords in BROAD_CATEGORIES:\n",
    "        if any(keyword in category_name_lower for keyword in keywords):\n",
    "            return broad_category\n",
    "    return category_name"
   ]
  },
  {
   "cell_type": "code",
   "execution_count": null,
   "id": "f2791d46-af3c-40fb-a66d-3f0e8b1c5582",
   "metadata": {},
   "outputs": [],
   "source": [
    "def get_nearby_categories(lat, lon, radius=100, limit=3):\n",
    "    if not FOURSQUARE_API_KEY:\n",
    "        return \"API key missing\"\n",
    "\n",
    "    headers = {\n",
    "        \"Authorization\": FOURSQUARE_API_KEY,\n",
    "        \"Accept\": \"application/json\"\n",
    "    }\n",
    "    params = {\n",
    "        \"ll\": f\"{lat},{lon}\",\n",
    "        \"radius\": radius,\n",
    "        \"limit\": limit\n",
    "    }\n",
    "    \n",
    "    response = requests.get(FOURSQUARE_URL, headers=headers, params=params)\n",
    "    \n",
    "    if response.status_code == 200:\n",
    "        data = response.json()\n",
    "        categories = set()\n",
    "        for place in data.get('results', []):\n",
    "            category_list = place.get('categories', [])\n",
    "            if category_list:\n",
    "                category_name = category_list[0]['name']\n",
    "                broad_category = classify_category(category_name)\n",
    "                categories.add(broad_category)\n",
    "        \n",
    "        return ', '.join(categories) if categories else \"None\"\n",
    "    else:\n",
    "        return f\"API error: {response.status_code}\""
   ]
  },
  {
   "cell_type": "code",
   "execution_count": null,
   "id": "e649580d-23de-40a6-bcb2-6446dfe62e1d",
   "metadata": {},
   "outputs": [],
   "source": [
    "inside_airbnb_df['amenities'] = inside_airbnb_df.apply(lambda row: get_nearby_categories(row['latitude'], row['longitude']), axis=1)"
   ]
  },
  {
   "cell_type": "code",
   "execution_count": null,
   "id": "b1fb74a0-642b-45ec-a305-2df5328e0e0d",
   "metadata": {},
   "outputs": [],
   "source": [
    "inside_airbnb_df.reset_index(inplace=True, drop=True)"
   ]
  },
  {
   "cell_type": "code",
   "execution_count": null,
   "id": "d9f2ba45-eed0-4148-b11b-ebd0982109f3",
   "metadata": {},
   "outputs": [],
   "source": [
    "inside_airbnb_df.drop(index=1490, inplace=True, axis=0)"
   ]
  },
  {
   "cell_type": "code",
   "execution_count": null,
   "id": "bb1d77cf-7f16-40d6-bb8d-5485f08e7b20",
   "metadata": {},
   "outputs": [],
   "source": [
    "inside_airbnb_df.head()"
   ]
  },
  {
   "cell_type": "code",
   "execution_count": null,
   "id": "610d70a1-d9e4-4043-aaa4-865b7ec897a5",
   "metadata": {},
   "outputs": [],
   "source": [
    "def map_categories(amenities):\n",
    "    categories = set()\n",
    "    \n",
    "    for amenity in amenities.split(', '):\n",
    "        found = False\n",
    "        for broad_category, keywords in BROAD_CATEGORIES:\n",
    "            if any(re.search(rf\"\\b{keyword}\\b\", amenity, re.IGNORECASE) for keyword in keywords):\n",
    "                categories.add(broad_category)\n",
    "                found = True\n",
    "                break\n",
    "        if not found:\n",
    "            categories.add(amenity)\n",
    "    \n",
    "    return ', '.join(sorted(categories))"
   ]
  },
  {
   "cell_type": "code",
   "execution_count": null,
   "id": "329f76bc-03c6-4d84-b950-0a9e99c047d6",
   "metadata": {},
   "outputs": [],
   "source": [
    "inside_airbnb_df['amenities'] = inside_airbnb_df['amenities'].apply(map_categories)"
   ]
  },
  {
   "cell_type": "code",
   "execution_count": null,
   "id": "eccd77ba-5921-41cb-a197-1af07ce87f1a",
   "metadata": {},
   "outputs": [],
   "source": [
    "flatten_arr = [category for item in inside_airbnb_df.amenities.to_list() for category in item.split(', ')]\n",
    "counts = Counter(flatten_arr)\n",
    "counts"
   ]
  },
  {
   "cell_type": "code",
   "execution_count": null,
   "id": "d19ade63-434e-4c1d-a549-aefef3607769",
   "metadata": {},
   "outputs": [],
   "source": [
    "inside_airbnb_df.to_csv(inside_airbnb_data_dir / 'selected_short_term_rentals.csv', index=False)"
   ]
  },
  {
   "cell_type": "code",
   "execution_count": null,
   "id": "aefee575-0236-4062-833c-5d1d3eaeef67",
   "metadata": {},
   "outputs": [],
   "source": []
  }
 ],
 "metadata": {
  "kernelspec": {
   "display_name": "Python 3 (ipykernel)",
   "language": "python",
   "name": "python3"
  },
  "language_info": {
   "codemirror_mode": {
    "name": "ipython",
    "version": 3
   },
   "file_extension": ".py",
   "mimetype": "text/x-python",
   "name": "python",
   "nbconvert_exporter": "python",
   "pygments_lexer": "ipython3",
   "version": "3.12.9"
  }
 },
 "nbformat": 4,
 "nbformat_minor": 5
}
