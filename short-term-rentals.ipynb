{
 "cells": [
  {
   "cell_type": "code",
   "execution_count": 76,
   "id": "e6e4518b-09bf-4dbc-abe1-acdc0b4849d6",
   "metadata": {},
   "outputs": [],
   "source": [
    "from pathlib import Path\n",
    "import pandas as pd\n",
    "import requests\n",
    "import os\n",
    "import re\n",
    "from collections import Counter"
   ]
  },
  {
   "cell_type": "code",
   "execution_count": 2,
   "id": "061acdca-8825-4593-93a5-de9826521c44",
   "metadata": {},
   "outputs": [],
   "source": [
    "pd.options.display.max_rows = None"
   ]
  },
  {
   "cell_type": "code",
   "execution_count": 3,
   "id": "b15b79f2-f162-4699-9284-4c7b8c1b3b5e",
   "metadata": {},
   "outputs": [],
   "source": [
    "home_dir = Path.home()\n",
    "inside_airbnb_data_dir = home_dir / 'Programming/data/inside-airbnb/london'\n",
    "crime_rate_dir = home_dir / 'Programming/data/crime-rate/'"
   ]
  },
  {
   "cell_type": "code",
   "execution_count": 4,
   "id": "a6122644-82c1-498e-bbd6-c1fd6b9ce410",
   "metadata": {},
   "outputs": [],
   "source": [
    "FOURSQUARE_API_KEY = os.environ['FOURSQUARE_API_KEY']\n",
    "FOURSQUARE_URL = \"https://api.foursquare.com/v3/places/search\""
   ]
  },
  {
   "cell_type": "code",
   "execution_count": 5,
   "id": "7be29204-7e75-4be6-9291-a28cc476f5fa",
   "metadata": {},
   "outputs": [],
   "source": [
    "inside_airbnb_data_file = inside_airbnb_data_dir / 'listings.csv'\n",
    "crime_rate_data_file = crime_rate_dir / 'crimerate-pro-data-table-rmp-region-towns-cities.csv'"
   ]
  },
  {
   "cell_type": "code",
   "execution_count": 6,
   "id": "cacd24f8-0285-4007-a322-240ef2147705",
   "metadata": {},
   "outputs": [],
   "source": [
    "crime_rate_df = pd.read_csv(crime_rate_data_file, usecols=['Borough', 'Crime Rate'])\n",
    "crime_rate_df.rename(columns={'Borough': 'borough', 'Crime Rate': 'crime_rate'}, inplace=True)\n",
    "crime_rate_df = crime_rate_df[crime_rate_df.borough != 'DownloadCSVExcelTSV']"
   ]
  },
  {
   "cell_type": "code",
   "execution_count": 7,
   "id": "d746b606-3619-4d77-a0c5-f556707cb409",
   "metadata": {},
   "outputs": [],
   "source": [
    "columns_list = ['neighbourhood_cleansed', 'bathrooms', 'bedrooms', 'latitude', 'longitude',\n",
    "                'room_type', 'latitude', 'longitude', 'property_type', 'price', 'minimum_nights']\n",
    "inside_airbnb_df = pd.read_csv(inside_airbnb_data_file, usecols=columns_list)\n",
    "inside_airbnb_df.rename(columns={'neighbourhood_cleansed': 'borough'}, inplace=True)\n",
    "inside_airbnb_df.price = inside_airbnb_df.price.str.replace('$', '')"
   ]
  },
  {
   "cell_type": "code",
   "execution_count": 8,
   "id": "602c14a7-c2a0-4df2-8b0e-b93d7e7e53e3",
   "metadata": {},
   "outputs": [],
   "source": [
    "inside_airbnb_df = inside_airbnb_df.loc[inside_airbnb_df.room_type == 'Entire home/apt']"
   ]
  },
  {
   "cell_type": "code",
   "execution_count": 9,
   "id": "cda21d6a-6484-4a1b-ba0c-f1dd61261eae",
   "metadata": {},
   "outputs": [],
   "source": [
    "inside_airbnb_df = inside_airbnb_df.loc[inside_airbnb_df.minimum_nights >= 30]"
   ]
  },
  {
   "cell_type": "code",
   "execution_count": 10,
   "id": "8d8916bf-84a9-49d9-a60c-2cf88464c10e",
   "metadata": {},
   "outputs": [],
   "source": [
    "inside_airbnb_df = inside_airbnb_df.merge(crime_rate_df, on='borough', how='left')"
   ]
  },
  {
   "cell_type": "code",
   "execution_count": 12,
   "id": "d1b0f688-cf2b-43f2-8037-182d6cf05306",
   "metadata": {},
   "outputs": [],
   "source": [
    "inside_airbnb_df = inside_airbnb_df.loc[(inside_airbnb_df.bathrooms.notna() & inside_airbnb_df.bedrooms.notna() & inside_airbnb_df.price.notna())]"
   ]
  },
  {
   "cell_type": "code",
   "execution_count": 79,
   "id": "14ac4c98-8b87-4bbd-a7c7-6bb308eaec4b",
   "metadata": {},
   "outputs": [],
   "source": [
    "BROAD_CATEGORIES = [\n",
    "    (\"Grocery Store\", [\"supermarket\", \"grocery\", \"convenience store\", \"gourmet\", \"butcher\"]),\n",
    "    (\"Restaurant\", [\"restaurant\", \"bbq\", \"steakhouse\", \"diner\", \"sushi\", \"cuisine\", \"brasserie\", \"joint\", \"buffet\",\n",
    "                    \"pizzeria\", \"parlor\", \"fish\", \"chips\", \"bistro\", \"dining\", \"buffet\", \"deli\"]),\n",
    "    (\"Cafe\", [\"coffee\", \"cafe\", \"tea\", \"bakery\", \"dessert\", \"café\", \"drinking\", \"breakfast\", \"gelato shop\",\n",
    "              \"bagel\", \"sandwich\", \"snack\", \"cupcake\", \"pastry\"]),\n",
    "    (\"Nightlife\", [\"bar\", \"pub\", \"club\", \"lounge\", \"casino\", \"speakeasy\", \"brewery\", \"roof deck\"]),\n",
    "    (\"Retail\", [\"shopping\", \"store\", \"mall\", \"market\", \"food\", \"beverage\", \"boutique\", \"office\", \"plaza\"]),\n",
    "    (\"Fitness\", [\"gym\", \"fitness\", \"yoga\", \"crossfit\", \"martial arts\", \"tennis\", \"sports\", \"football\", \"cricket\", \"stable\",\n",
    "                 \"swimming\", \"bowling\", \"skating\", \"sporting\", \"sport\", \"soccer\"]),\n",
    "    (\"Wellness\", [\"spa\", \"massage\", \"therapy\", \"sauna\", \"escape room\", \"psychic\", \"astrologer\"]),\n",
    "    (\"Entertainment\", [\"theater\", \"cinema\", \"concert\", \"comedy\", \"recreation\", \"bingo\", \"music\", \"auditorium\", \"jazz\",\n",
    "                       \"blues\", \"stadium\", \"gun\", \"race\", \"track\"]),\n",
    "    (\"Cultural\", [\"museum\", \"art\", \"gallery\", \"library\", \"historic\", \"landmarks\", \"monument\", \"tour\", \"opera\", \"exhibit\", \"memorial\"]),\n",
    "    (\"Outdoor\", [\"park\", \"trail\", \"beach\", \"zoo\", \"hiking\", \"playground\", \"outdoors\", \"tunnel\", \"fountain\",\n",
    "                 \"scenic\", \"nature\", \"aquarium\", \"campground\", \"camp\", \"farm\", \"canal\"]),\n",
    "    (\"Transport\", [\"train\", \"bus\", \"subway\", \"parking\", \"taxi\", \"tube\", \"dealership\", \"automotive\", \"car rental\",\n",
    "                   \"shipping\", \"motorcycle\", \"fuel station\", \"harbor\", \"marina\"]),\n",
    "    (\"Healthcare\", [\"hospital\", \"clinic\", \"pharmacy\", \"dentist\", \"veterinary\", \"medicine\", \"doctor\", \"surgeon\", \"surgery\", \"healthcare\",\n",
    "                    \"physiotherapist\", \"physician\", \"psycho\", \"assisted living\", \"medical\", \"nutritionist\", \"ambulance\"]),\n",
    "    (\"Services\", [\"bank\", \"atm\", \"post\", \"salon\", \"barber\", \"laundry\", \"child care\", \"agency\", \"photographer\", \"chimney\",\n",
    "                  \"veterinarian\", \"telecommunication\", \"pet\", \"wedding\", \"architecture\", \"upholstery\", \"cleaning\", \"computer\",\n",
    "                  \"photography\", \"audiovisual\", \"manufacturer\", \"auction\", \"designer\", \"event\", \"renewable energy\", \"hotel\", \"wholesaler\"]),\n",
    "    (\"Organization\", [\"community\", \"government\", \"assistance\", \"legal\", \"environmental\", \"non-profit\", \"charity\", \"youth\", \"city hall\",\n",
    "                      \"disabled\", \"military\", \"embassy\", \"consulate\", \"agriculture\", \"forestry\", \"courthouse\", \"police\", \"fire\", \"station\"]),\n",
    "    (\"Education\", [\"school\", \"learning\", \"tutoring\", \"preschool\", \"kindergarten\", \"university\", \"college\", \"education\"]),\n",
    "    (\"Religion\", [\"church\", \"cathedral\", \"seminary\", \"mosque\", \"temple\", \"synagogue\", \"faith\", \"monastery\", \"cemetery\", \"spiritual\", \"kingdom hall\"]),\n",
    "    (\"Home Improvement\", [\"hvac\", \"home\", \"heating ventilating air conditioning\", \"landscape\", \"garden\", \"smith\", \"contractor\",\n",
    "                          \"construction\", \"carpenter\", \"builder\", \"plumber\", \"housing\", \"electrician\", \"locksmith\", \"real estate\"]),\n",
    "]"
   ]
  },
  {
   "cell_type": "code",
   "execution_count": 17,
   "id": "6e090bdf-c59f-40c1-97f7-6b655825942c",
   "metadata": {},
   "outputs": [],
   "source": [
    "def classify_category(category_name):\n",
    "    category_name_lower = category_name.lower()\n",
    "    for broad_category, keywords in BROAD_CATEGORIES:\n",
    "        if any(keyword in category_name_lower for keyword in keywords):\n",
    "            return broad_category\n",
    "    return category_name"
   ]
  },
  {
   "cell_type": "code",
   "execution_count": 18,
   "id": "f2791d46-af3c-40fb-a66d-3f0e8b1c5582",
   "metadata": {},
   "outputs": [],
   "source": [
    "def get_nearby_categories(lat, lon, radius=100, limit=3):\n",
    "    if not FOURSQUARE_API_KEY:\n",
    "        return \"API key missing\"\n",
    "\n",
    "    headers = {\n",
    "        \"Authorization\": FOURSQUARE_API_KEY,\n",
    "        \"Accept\": \"application/json\"\n",
    "    }\n",
    "    params = {\n",
    "        \"ll\": f\"{lat},{lon}\",\n",
    "        \"radius\": radius,\n",
    "        \"limit\": limit\n",
    "    }\n",
    "    \n",
    "    response = requests.get(FOURSQUARE_URL, headers=headers, params=params)\n",
    "    \n",
    "    if response.status_code == 200:\n",
    "        data = response.json()\n",
    "        categories = set()\n",
    "        for place in data.get('results', []):\n",
    "            category_list = place.get('categories', [])\n",
    "            if category_list:\n",
    "                category_name = category_list[0]['name']\n",
    "                broad_category = classify_category(category_name)\n",
    "                categories.add(broad_category)\n",
    "        \n",
    "        return ', '.join(categories) if categories else \"None\"\n",
    "    else:\n",
    "        return f\"API error: {response.status_code}\""
   ]
  },
  {
   "cell_type": "code",
   "execution_count": 22,
   "id": "e649580d-23de-40a6-bcb2-6446dfe62e1d",
   "metadata": {},
   "outputs": [],
   "source": [
    "inside_airbnb_df['amenities'] = inside_airbnb_df.apply(lambda row: get_nearby_categories(row['latitude'], row['longitude']), axis=1)"
   ]
  },
  {
   "cell_type": "code",
   "execution_count": 36,
   "id": "b1fb74a0-642b-45ec-a305-2df5328e0e0d",
   "metadata": {},
   "outputs": [],
   "source": [
    "inside_airbnb_df.reset_index(inplace=True, drop=True)"
   ]
  },
  {
   "cell_type": "code",
   "execution_count": 62,
   "id": "d9f2ba45-eed0-4148-b11b-ebd0982109f3",
   "metadata": {},
   "outputs": [],
   "source": [
    "inside_airbnb_df.drop(index=1490, inplace=True, axis=0)"
   ]
  },
  {
   "cell_type": "code",
   "execution_count": 69,
   "id": "bb1d77cf-7f16-40d6-bb8d-5485f08e7b20",
   "metadata": {},
   "outputs": [
    {
     "data": {
      "text/html": [
       "<div>\n",
       "<style scoped>\n",
       "    .dataframe tbody tr th:only-of-type {\n",
       "        vertical-align: middle;\n",
       "    }\n",
       "\n",
       "    .dataframe tbody tr th {\n",
       "        vertical-align: top;\n",
       "    }\n",
       "\n",
       "    .dataframe thead th {\n",
       "        text-align: right;\n",
       "    }\n",
       "</style>\n",
       "<table border=\"1\" class=\"dataframe\">\n",
       "  <thead>\n",
       "    <tr style=\"text-align: right;\">\n",
       "      <th></th>\n",
       "      <th>borough</th>\n",
       "      <th>latitude</th>\n",
       "      <th>longitude</th>\n",
       "      <th>property_type</th>\n",
       "      <th>room_type</th>\n",
       "      <th>bathrooms</th>\n",
       "      <th>bedrooms</th>\n",
       "      <th>price</th>\n",
       "      <th>minimum_nights</th>\n",
       "      <th>crime_rate</th>\n",
       "      <th>amenities</th>\n",
       "    </tr>\n",
       "  </thead>\n",
       "  <tbody>\n",
       "    <tr>\n",
       "      <th>0</th>\n",
       "      <td>Lambeth</td>\n",
       "      <td>51.491476</td>\n",
       "      <td>-0.111514</td>\n",
       "      <td>Entire rental unit</td>\n",
       "      <td>Entire home/apt</td>\n",
       "      <td>1.0</td>\n",
       "      <td>1.0</td>\n",
       "      <td>150.00</td>\n",
       "      <td>30.0</td>\n",
       "      <td>137.98</td>\n",
       "      <td>Education</td>\n",
       "    </tr>\n",
       "    <tr>\n",
       "      <th>1</th>\n",
       "      <td>Kensington and Chelsea</td>\n",
       "      <td>51.485660</td>\n",
       "      <td>-0.184150</td>\n",
       "      <td>Entire rental unit</td>\n",
       "      <td>Entire home/apt</td>\n",
       "      <td>2.0</td>\n",
       "      <td>2.0</td>\n",
       "      <td>195.00</td>\n",
       "      <td>91.0</td>\n",
       "      <td>118.02</td>\n",
       "      <td>Nightlife, Restaurant</td>\n",
       "    </tr>\n",
       "    <tr>\n",
       "      <th>2</th>\n",
       "      <td>Brent</td>\n",
       "      <td>51.538990</td>\n",
       "      <td>-0.197440</td>\n",
       "      <td>Entire rental unit</td>\n",
       "      <td>Entire home/apt</td>\n",
       "      <td>1.5</td>\n",
       "      <td>2.0</td>\n",
       "      <td>83.00</td>\n",
       "      <td>30.0</td>\n",
       "      <td>117.59</td>\n",
       "      <td>Grocery Store</td>\n",
       "    </tr>\n",
       "    <tr>\n",
       "      <th>3</th>\n",
       "      <td>Kensington and Chelsea</td>\n",
       "      <td>51.517320</td>\n",
       "      <td>-0.200500</td>\n",
       "      <td>Entire rental unit</td>\n",
       "      <td>Entire home/apt</td>\n",
       "      <td>1.0</td>\n",
       "      <td>2.0</td>\n",
       "      <td>288.00</td>\n",
       "      <td>91.0</td>\n",
       "      <td>118.02</td>\n",
       "      <td>Restaurant</td>\n",
       "    </tr>\n",
       "    <tr>\n",
       "      <th>4</th>\n",
       "      <td>Westminster</td>\n",
       "      <td>51.496950</td>\n",
       "      <td>-0.138880</td>\n",
       "      <td>Entire rental unit</td>\n",
       "      <td>Entire home/apt</td>\n",
       "      <td>3.0</td>\n",
       "      <td>4.0</td>\n",
       "      <td>901.00</td>\n",
       "      <td>186.0</td>\n",
       "      <td>132.94</td>\n",
       "      <td>Restaurant, Retail</td>\n",
       "    </tr>\n",
       "  </tbody>\n",
       "</table>\n",
       "</div>"
      ],
      "text/plain": [
       "                  borough   latitude  longitude       property_type  \\\n",
       "0                 Lambeth  51.491476  -0.111514  Entire rental unit   \n",
       "1  Kensington and Chelsea  51.485660  -0.184150  Entire rental unit   \n",
       "2                   Brent  51.538990  -0.197440  Entire rental unit   \n",
       "3  Kensington and Chelsea  51.517320  -0.200500  Entire rental unit   \n",
       "4             Westminster  51.496950  -0.138880  Entire rental unit   \n",
       "\n",
       "         room_type  bathrooms  bedrooms   price  minimum_nights  crime_rate  \\\n",
       "0  Entire home/apt        1.0       1.0  150.00            30.0      137.98   \n",
       "1  Entire home/apt        2.0       2.0  195.00            91.0      118.02   \n",
       "2  Entire home/apt        1.5       2.0   83.00            30.0      117.59   \n",
       "3  Entire home/apt        1.0       2.0  288.00            91.0      118.02   \n",
       "4  Entire home/apt        3.0       4.0  901.00           186.0      132.94   \n",
       "\n",
       "               amenities  \n",
       "0              Education  \n",
       "1  Nightlife, Restaurant  \n",
       "2          Grocery Store  \n",
       "3             Restaurant  \n",
       "4     Restaurant, Retail  "
      ]
     },
     "execution_count": 69,
     "metadata": {},
     "output_type": "execute_result"
    }
   ],
   "source": [
    "inside_airbnb_df.head()"
   ]
  },
  {
   "cell_type": "code",
   "execution_count": 74,
   "id": "610d70a1-d9e4-4043-aaa4-865b7ec897a5",
   "metadata": {},
   "outputs": [],
   "source": [
    "def map_categories(amenities):\n",
    "    categories = set()\n",
    "    \n",
    "    for amenity in amenities.split(', '):\n",
    "        found = False\n",
    "        for broad_category, keywords in BROAD_CATEGORIES:\n",
    "            if any(re.search(rf\"\\b{keyword}\\b\", amenity, re.IGNORECASE) for keyword in keywords):\n",
    "                categories.add(broad_category)\n",
    "                found = True\n",
    "                break\n",
    "        if not found:\n",
    "            categories.add(amenity)\n",
    "    \n",
    "    return ', '.join(sorted(categories))"
   ]
  },
  {
   "cell_type": "code",
   "execution_count": 80,
   "id": "329f76bc-03c6-4d84-b950-0a9e99c047d6",
   "metadata": {},
   "outputs": [],
   "source": [
    "inside_airbnb_df['amenities'] = inside_airbnb_df['amenities'].apply(map_categories)"
   ]
  },
  {
   "cell_type": "code",
   "execution_count": 81,
   "id": "eccd77ba-5921-41cb-a197-1af07ce87f1a",
   "metadata": {},
   "outputs": [
    {
     "data": {
      "text/plain": [
       "Counter({'Restaurant': 543,\n",
       "         'Nightlife': 328,\n",
       "         'Cafe': 300,\n",
       "         'Retail': 269,\n",
       "         'Grocery Store': 147,\n",
       "         'Education': 146,\n",
       "         'Cultural': 136,\n",
       "         'Healthcare': 119,\n",
       "         'Organization': 117,\n",
       "         'None': 95,\n",
       "         'Religion': 74,\n",
       "         'Home Improvement': 65,\n",
       "         'Outdoor': 54,\n",
       "         'Services': 50,\n",
       "         'Entertainment': 47,\n",
       "         'Fitness': 34,\n",
       "         'Transport': 34,\n",
       "         'Wellness': 6})"
      ]
     },
     "execution_count": 81,
     "metadata": {},
     "output_type": "execute_result"
    }
   ],
   "source": [
    "flatten_arr = [category for item in inside_airbnb_df.amenities.to_list() for category in item.split(', ')]\n",
    "counts = Counter(flatten_arr)\n",
    "counts"
   ]
  },
  {
   "cell_type": "code",
   "execution_count": 84,
   "id": "d19ade63-434e-4c1d-a549-aefef3607769",
   "metadata": {},
   "outputs": [],
   "source": [
    "inside_airbnb_df.to_csv(inside_airbnb_data_dir / 'selected_short_term_rentals.csv', index=False)"
   ]
  },
  {
   "cell_type": "code",
   "execution_count": null,
   "id": "aefee575-0236-4062-833c-5d1d3eaeef67",
   "metadata": {},
   "outputs": [],
   "source": []
  }
 ],
 "metadata": {
  "kernelspec": {
   "display_name": "Python 3 (ipykernel)",
   "language": "python",
   "name": "python3"
  },
  "language_info": {
   "codemirror_mode": {
    "name": "ipython",
    "version": 3
   },
   "file_extension": ".py",
   "mimetype": "text/x-python",
   "name": "python",
   "nbconvert_exporter": "python",
   "pygments_lexer": "ipython3",
   "version": "3.11.11"
  }
 },
 "nbformat": 4,
 "nbformat_minor": 5
}
