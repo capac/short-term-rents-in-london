{
 "cells": [
  {
   "cell_type": "code",
   "execution_count": null,
   "id": "e6e4518b-09bf-4dbc-abe1-acdc0b4849d6",
   "metadata": {},
   "outputs": [],
   "source": [
    "import os\n",
    "import json\n",
    "from pathlib import Path\n",
    "import pandas as pd\n",
    "import requests"
   ]
  },
  {
   "cell_type": "code",
   "execution_count": 2,
   "id": "061acdca-8825-4593-93a5-de9826521c44",
   "metadata": {},
   "outputs": [],
   "source": [
    "pd.options.display.max_rows = None"
   ]
  },
  {
   "cell_type": "code",
   "execution_count": 3,
   "id": "a6122644-82c1-498e-bbd6-c1fd6b9ce410",
   "metadata": {},
   "outputs": [],
   "source": [
    "FOURSQUARE_API_KEY = os.environ['FOURSQUARE_API_KEY']\n",
    "FOURSQUARE_URL = 'https://api.foursquare.com/v3/places/search'"
   ]
  },
  {
   "cell_type": "code",
   "execution_count": 4,
   "id": "b15b79f2-f162-4699-9284-4c7b8c1b3b5e",
   "metadata": {},
   "outputs": [],
   "source": [
    "home_dir = Path.home()\n",
    "inside_airbnb_data_dir = (\n",
    "    home_dir / 'Programming/data/inside-airbnb/london')\n",
    "crime_rate_dir = (\n",
    "    home_dir / 'Programming/data/crime-rate/')\n",
    "inside_airbnb_work_dir = (\n",
    "    home_dir /\n",
    "    'Programming/Python/machine-learning-exercises/short-term-rents-in-london')"
   ]
  },
  {
   "cell_type": "code",
   "execution_count": 32,
   "id": "7be29204-7e75-4be6-9291-a28cc476f5fa",
   "metadata": {},
   "outputs": [],
   "source": [
    "inside_airbnb_data_file = (\n",
    "    inside_airbnb_data_dir / 'listings.csv')\n",
    "crime_rate_data_file = (\n",
    "    crime_rate_dir / 'crimerate-pro-data-table-rmp-region-towns-cities.csv')\n",
    "foursquare_categories_file = (\n",
    "    inside_airbnb_work_dir / 'foursquare_categories/foursquare_categories.json')\n",
    "location_cache_json_file = (\n",
    "    inside_airbnb_work_dir / 'location_cache.json')"
   ]
  },
  {
   "cell_type": "code",
   "execution_count": 7,
   "id": "cacd24f8-0285-4007-a322-240ef2147705",
   "metadata": {},
   "outputs": [],
   "source": [
    "crime_rate_df = pd.read_csv(\n",
    "    crime_rate_data_file, usecols=['Borough', 'Crime Rate'])\n",
    "crime_rate_df.rename(\n",
    "    columns={'Borough': 'borough', 'Crime Rate': 'crime_rate'},\n",
    "    inplace=True)\n",
    "crime_rate_df = crime_rate_df[crime_rate_df.borough != 'DownloadCSVExcelTSV']"
   ]
  },
  {
   "cell_type": "code",
   "execution_count": 8,
   "id": "d746b606-3619-4d77-a0c5-f556707cb409",
   "metadata": {},
   "outputs": [],
   "source": [
    "columns_list = [\n",
    "    'neighbourhood_cleansed', 'latitude', 'longitude', 'accommodates',\n",
    "    'bedrooms', 'bathrooms', 'property_type', 'room_type', 'availability_365',\n",
    "    'calendar_last_scraped', 'last_review', 'price']\n",
    "inside_airbnb_df = pd.read_csv(\n",
    "    inside_airbnb_data_file, usecols=columns_list,\n",
    "    parse_dates=['calendar_last_scraped', 'last_review'],\n",
    "    date_format=\"%d/%m/%Y\")\n",
    "inside_airbnb_df.rename(\n",
    "    columns={'neighbourhood_cleansed': 'borough'},\n",
    "    inplace=True)\n",
    "inside_airbnb_df.price = inside_airbnb_df.price.str.replace('$', '')"
   ]
  },
  {
   "cell_type": "code",
   "execution_count": 9,
   "id": "f2d2bee9-a262-4f2e-bfab-212a895fad0a",
   "metadata": {},
   "outputs": [
    {
     "name": "stdout",
     "output_type": "stream",
     "text": [
      "<class 'pandas.core.frame.DataFrame'>\n",
      "RangeIndex: 95144 entries, 0 to 95143\n",
      "Data columns (total 12 columns):\n",
      " #   Column                 Non-Null Count  Dtype         \n",
      "---  ------                 --------------  -----         \n",
      " 0   borough                95144 non-null  object        \n",
      " 1   latitude               95144 non-null  float64       \n",
      " 2   longitude              95144 non-null  float64       \n",
      " 3   property_type          95144 non-null  object        \n",
      " 4   room_type              95144 non-null  object        \n",
      " 5   accommodates           95144 non-null  int64         \n",
      " 6   bathrooms              62744 non-null  float64       \n",
      " 7   bedrooms               82794 non-null  float64       \n",
      " 8   price                  62777 non-null  object        \n",
      " 9   availability_365       95144 non-null  int64         \n",
      " 10  calendar_last_scraped  95144 non-null  datetime64[ns]\n",
      " 11  last_review            70560 non-null  datetime64[ns]\n",
      "dtypes: datetime64[ns](2), float64(4), int64(2), object(4)\n",
      "memory usage: 8.7+ MB\n"
     ]
    }
   ],
   "source": [
    "inside_airbnb_df.info()"
   ]
  },
  {
   "cell_type": "code",
   "execution_count": 10,
   "id": "d1b0f688-cf2b-43f2-8037-182d6cf05306",
   "metadata": {},
   "outputs": [],
   "source": [
    "inside_airbnb_df = inside_airbnb_df.loc[\n",
    "    (inside_airbnb_df.bathrooms.notna() &\n",
    "     inside_airbnb_df.bedrooms.notna() &\n",
    "    inside_airbnb_df.price.notna() &\n",
    "     inside_airbnb_df.last_review.notna())]"
   ]
  },
  {
   "cell_type": "code",
   "execution_count": 11,
   "id": "ee38ebfb-129a-402d-b3d6-22e49e6291a3",
   "metadata": {},
   "outputs": [
    {
     "name": "stdout",
     "output_type": "stream",
     "text": [
      "<class 'pandas.core.frame.DataFrame'>\n",
      "Index: 48186 entries, 0 to 95065\n",
      "Data columns (total 12 columns):\n",
      " #   Column                 Non-Null Count  Dtype         \n",
      "---  ------                 --------------  -----         \n",
      " 0   borough                48186 non-null  object        \n",
      " 1   latitude               48186 non-null  float64       \n",
      " 2   longitude              48186 non-null  float64       \n",
      " 3   property_type          48186 non-null  object        \n",
      " 4   room_type              48186 non-null  object        \n",
      " 5   accommodates           48186 non-null  int64         \n",
      " 6   bathrooms              48186 non-null  float64       \n",
      " 7   bedrooms               48186 non-null  float64       \n",
      " 8   price                  48186 non-null  object        \n",
      " 9   availability_365       48186 non-null  int64         \n",
      " 10  calendar_last_scraped  48186 non-null  datetime64[ns]\n",
      " 11  last_review            48186 non-null  datetime64[ns]\n",
      "dtypes: datetime64[ns](2), float64(4), int64(2), object(4)\n",
      "memory usage: 4.8+ MB\n"
     ]
    }
   ],
   "source": [
    "inside_airbnb_df.info()"
   ]
  },
  {
   "cell_type": "code",
   "execution_count": 12,
   "id": "b9a54457",
   "metadata": {},
   "outputs": [],
   "source": [
    "inside_airbnb_df['days_from_last_review'] = (\n",
    "    inside_airbnb_df.calendar_last_scraped - inside_airbnb_df.last_review).dt.days\n",
    "inside_airbnb_df.drop(['calendar_last_scraped', 'last_review'], axis=1, inplace=True)"
   ]
  },
  {
   "cell_type": "code",
   "execution_count": 13,
   "id": "4cd068f7",
   "metadata": {},
   "outputs": [
    {
     "name": "stdout",
     "output_type": "stream",
     "text": [
      "<class 'pandas.core.frame.DataFrame'>\n",
      "Index: 48186 entries, 0 to 95065\n",
      "Data columns (total 11 columns):\n",
      " #   Column                 Non-Null Count  Dtype  \n",
      "---  ------                 --------------  -----  \n",
      " 0   borough                48186 non-null  object \n",
      " 1   latitude               48186 non-null  float64\n",
      " 2   longitude              48186 non-null  float64\n",
      " 3   property_type          48186 non-null  object \n",
      " 4   room_type              48186 non-null  object \n",
      " 5   accommodates           48186 non-null  int64  \n",
      " 6   bathrooms              48186 non-null  float64\n",
      " 7   bedrooms               48186 non-null  float64\n",
      " 8   price                  48186 non-null  object \n",
      " 9   availability_365       48186 non-null  int64  \n",
      " 10  days_from_last_review  48186 non-null  int64  \n",
      "dtypes: float64(4), int64(3), object(4)\n",
      "memory usage: 4.4+ MB\n"
     ]
    }
   ],
   "source": [
    "inside_airbnb_df.info()"
   ]
  },
  {
   "cell_type": "code",
   "execution_count": 14,
   "id": "9bc1d3df",
   "metadata": {},
   "outputs": [],
   "source": [
    "six_months_in_days = 182\n",
    "inside_airbnb_df = inside_airbnb_df[\n",
    "    (inside_airbnb_df['days_from_last_review'] < \n",
    "     six_months_in_days)]"
   ]
  },
  {
   "cell_type": "code",
   "execution_count": 15,
   "id": "3fbdea31-e876-4987-8a1f-cddcbf8a092e",
   "metadata": {},
   "outputs": [
    {
     "name": "stdout",
     "output_type": "stream",
     "text": [
      "<class 'pandas.core.frame.DataFrame'>\n",
      "Index: 38262 entries, 0 to 95065\n",
      "Data columns (total 11 columns):\n",
      " #   Column                 Non-Null Count  Dtype  \n",
      "---  ------                 --------------  -----  \n",
      " 0   borough                38262 non-null  object \n",
      " 1   latitude               38262 non-null  float64\n",
      " 2   longitude              38262 non-null  float64\n",
      " 3   property_type          38262 non-null  object \n",
      " 4   room_type              38262 non-null  object \n",
      " 5   accommodates           38262 non-null  int64  \n",
      " 6   bathrooms              38262 non-null  float64\n",
      " 7   bedrooms               38262 non-null  float64\n",
      " 8   price                  38262 non-null  object \n",
      " 9   availability_365       38262 non-null  int64  \n",
      " 10  days_from_last_review  38262 non-null  int64  \n",
      "dtypes: float64(4), int64(3), object(4)\n",
      "memory usage: 3.5+ MB\n"
     ]
    }
   ],
   "source": [
    "inside_airbnb_df.info()"
   ]
  },
  {
   "cell_type": "code",
   "execution_count": 16,
   "id": "d35e1009-60b3-4ae7-b220-547801557445",
   "metadata": {},
   "outputs": [],
   "source": [
    "year_minus_three_months_in_days = 275\n",
    "inside_airbnb_df = inside_airbnb_df[\n",
    "    (inside_airbnb_df.availability_365 < year_minus_three_months_in_days)]"
   ]
  },
  {
   "cell_type": "code",
   "execution_count": 17,
   "id": "94a250db-bb41-4848-807d-5fabcfb550bd",
   "metadata": {},
   "outputs": [
    {
     "name": "stdout",
     "output_type": "stream",
     "text": [
      "<class 'pandas.core.frame.DataFrame'>\n",
      "Index: 27024 entries, 0 to 95065\n",
      "Data columns (total 11 columns):\n",
      " #   Column                 Non-Null Count  Dtype  \n",
      "---  ------                 --------------  -----  \n",
      " 0   borough                27024 non-null  object \n",
      " 1   latitude               27024 non-null  float64\n",
      " 2   longitude              27024 non-null  float64\n",
      " 3   property_type          27024 non-null  object \n",
      " 4   room_type              27024 non-null  object \n",
      " 5   accommodates           27024 non-null  int64  \n",
      " 6   bathrooms              27024 non-null  float64\n",
      " 7   bedrooms               27024 non-null  float64\n",
      " 8   price                  27024 non-null  object \n",
      " 9   availability_365       27024 non-null  int64  \n",
      " 10  days_from_last_review  27024 non-null  int64  \n",
      "dtypes: float64(4), int64(3), object(4)\n",
      "memory usage: 2.5+ MB\n"
     ]
    }
   ],
   "source": [
    "inside_airbnb_df.info()"
   ]
  },
  {
   "cell_type": "code",
   "execution_count": 18,
   "id": "61dd3430",
   "metadata": {},
   "outputs": [],
   "source": [
    "inside_airbnb_sr = (inside_airbnb_df\n",
    "                    .groupby('property_type')['property_type']\n",
    "                    .count()\n",
    "                    .sort_values(ascending=False))\n",
    "limit_num_categories = 30\n",
    "inside_airbnb_sr_30 = inside_airbnb_sr[inside_airbnb_sr.values > limit_num_categories]\n",
    "inside_airbnb_property_type_list = list(inside_airbnb_sr_30.index)"
   ]
  },
  {
   "cell_type": "code",
   "execution_count": 19,
   "id": "16527777-1ff4-4436-9cb2-bb4ba4c8b394",
   "metadata": {},
   "outputs": [],
   "source": [
    "inside_airbnb_df = inside_airbnb_df.loc[\n",
    "    (inside_airbnb_df['property_type']\n",
    "     .isin(inside_airbnb_property_type_list))]"
   ]
  },
  {
   "cell_type": "code",
   "execution_count": 20,
   "id": "8d8916bf-84a9-49d9-a60c-2cf88464c10e",
   "metadata": {},
   "outputs": [],
   "source": [
    "inside_airbnb_df = inside_airbnb_df.merge(crime_rate_df, on='borough', how='left')"
   ]
  },
  {
   "cell_type": "code",
   "execution_count": 21,
   "id": "ef84e183-d5ad-4673-964b-02016ad034c5",
   "metadata": {},
   "outputs": [
    {
     "name": "stdout",
     "output_type": "stream",
     "text": [
      "<class 'pandas.core.frame.DataFrame'>\n",
      "RangeIndex: 26630 entries, 0 to 26629\n",
      "Data columns (total 12 columns):\n",
      " #   Column                 Non-Null Count  Dtype  \n",
      "---  ------                 --------------  -----  \n",
      " 0   borough                26630 non-null  object \n",
      " 1   latitude               26630 non-null  float64\n",
      " 2   longitude              26630 non-null  float64\n",
      " 3   property_type          26630 non-null  object \n",
      " 4   room_type              26630 non-null  object \n",
      " 5   accommodates           26630 non-null  int64  \n",
      " 6   bathrooms              26630 non-null  float64\n",
      " 7   bedrooms               26630 non-null  float64\n",
      " 8   price                  26630 non-null  object \n",
      " 9   availability_365       26630 non-null  int64  \n",
      " 10  days_from_last_review  26630 non-null  int64  \n",
      " 11  crime_rate             26630 non-null  float64\n",
      "dtypes: float64(5), int64(3), object(4)\n",
      "memory usage: 2.4+ MB\n"
     ]
    }
   ],
   "source": [
    "inside_airbnb_df.info()"
   ]
  },
  {
   "cell_type": "code",
   "execution_count": 22,
   "id": "0535f59f-08cb-49e7-8bb9-69b41b242c0b",
   "metadata": {},
   "outputs": [
    {
     "data": {
      "text/html": [
       "<div>\n",
       "<style scoped>\n",
       "    .dataframe tbody tr th:only-of-type {\n",
       "        vertical-align: middle;\n",
       "    }\n",
       "\n",
       "    .dataframe tbody tr th {\n",
       "        vertical-align: top;\n",
       "    }\n",
       "\n",
       "    .dataframe thead th {\n",
       "        text-align: right;\n",
       "    }\n",
       "</style>\n",
       "<table border=\"1\" class=\"dataframe\">\n",
       "  <thead>\n",
       "    <tr style=\"text-align: right;\">\n",
       "      <th></th>\n",
       "      <th>borough</th>\n",
       "      <th>latitude</th>\n",
       "      <th>longitude</th>\n",
       "      <th>property_type</th>\n",
       "      <th>room_type</th>\n",
       "      <th>accommodates</th>\n",
       "      <th>bathrooms</th>\n",
       "      <th>bedrooms</th>\n",
       "      <th>price</th>\n",
       "      <th>availability_365</th>\n",
       "      <th>days_from_last_review</th>\n",
       "      <th>crime_rate</th>\n",
       "    </tr>\n",
       "  </thead>\n",
       "  <tbody>\n",
       "    <tr>\n",
       "      <th>0</th>\n",
       "      <td>Hammersmith and Fulham</td>\n",
       "      <td>51.49392</td>\n",
       "      <td>-0.22754</td>\n",
       "      <td>Entire rental unit</td>\n",
       "      <td>Entire home/apt</td>\n",
       "      <td>2</td>\n",
       "      <td>1.5</td>\n",
       "      <td>1.0</td>\n",
       "      <td>89.00</td>\n",
       "      <td>22</td>\n",
       "      <td>25</td>\n",
       "      <td>103.14</td>\n",
       "    </tr>\n",
       "    <tr>\n",
       "      <th>1</th>\n",
       "      <td>Hammersmith and Fulham</td>\n",
       "      <td>51.49547</td>\n",
       "      <td>-0.22864</td>\n",
       "      <td>Entire rental unit</td>\n",
       "      <td>Entire home/apt</td>\n",
       "      <td>2</td>\n",
       "      <td>1.0</td>\n",
       "      <td>1.0</td>\n",
       "      <td>88.00</td>\n",
       "      <td>149</td>\n",
       "      <td>28</td>\n",
       "      <td>103.14</td>\n",
       "    </tr>\n",
       "    <tr>\n",
       "      <th>2</th>\n",
       "      <td>Lambeth</td>\n",
       "      <td>51.46156</td>\n",
       "      <td>-0.11183</td>\n",
       "      <td>Entire condo</td>\n",
       "      <td>Entire home/apt</td>\n",
       "      <td>6</td>\n",
       "      <td>2.0</td>\n",
       "      <td>2.0</td>\n",
       "      <td>120.00</td>\n",
       "      <td>32</td>\n",
       "      <td>144</td>\n",
       "      <td>137.98</td>\n",
       "    </tr>\n",
       "    <tr>\n",
       "      <th>3</th>\n",
       "      <td>Camden</td>\n",
       "      <td>51.54417</td>\n",
       "      <td>-0.14651</td>\n",
       "      <td>Private room in home</td>\n",
       "      <td>Private room</td>\n",
       "      <td>4</td>\n",
       "      <td>1.5</td>\n",
       "      <td>1.0</td>\n",
       "      <td>83.00</td>\n",
       "      <td>147</td>\n",
       "      <td>11</td>\n",
       "      <td>108.07</td>\n",
       "    </tr>\n",
       "    <tr>\n",
       "      <th>4</th>\n",
       "      <td>Lambeth</td>\n",
       "      <td>51.45371</td>\n",
       "      <td>-0.11009</td>\n",
       "      <td>Private room in rental unit</td>\n",
       "      <td>Private room</td>\n",
       "      <td>2</td>\n",
       "      <td>0.5</td>\n",
       "      <td>2.0</td>\n",
       "      <td>32.00</td>\n",
       "      <td>0</td>\n",
       "      <td>65</td>\n",
       "      <td>137.98</td>\n",
       "    </tr>\n",
       "  </tbody>\n",
       "</table>\n",
       "</div>"
      ],
      "text/plain": [
       "                  borough  latitude  longitude                property_type  \\\n",
       "0  Hammersmith and Fulham  51.49392   -0.22754           Entire rental unit   \n",
       "1  Hammersmith and Fulham  51.49547   -0.22864           Entire rental unit   \n",
       "2                 Lambeth  51.46156   -0.11183                 Entire condo   \n",
       "3                  Camden  51.54417   -0.14651         Private room in home   \n",
       "4                 Lambeth  51.45371   -0.11009  Private room in rental unit   \n",
       "\n",
       "         room_type  accommodates  bathrooms  bedrooms   price  \\\n",
       "0  Entire home/apt             2        1.5       1.0   89.00   \n",
       "1  Entire home/apt             2        1.0       1.0   88.00   \n",
       "2  Entire home/apt             6        2.0       2.0  120.00   \n",
       "3     Private room             4        1.5       1.0   83.00   \n",
       "4     Private room             2        0.5       2.0   32.00   \n",
       "\n",
       "   availability_365  days_from_last_review  crime_rate  \n",
       "0                22                     25      103.14  \n",
       "1               149                     28      103.14  \n",
       "2                32                    144      137.98  \n",
       "3               147                     11      108.07  \n",
       "4                 0                     65      137.98  "
      ]
     },
     "execution_count": 22,
     "metadata": {},
     "output_type": "execute_result"
    }
   ],
   "source": [
    "inside_airbnb_df.head()"
   ]
  },
  {
   "cell_type": "code",
   "execution_count": 27,
   "id": "25874966",
   "metadata": {},
   "outputs": [],
   "source": [
    "def round_coord(lat, lon, resolution=0.001):\n",
    "    return (round(lat / resolution) * resolution,\n",
    "            round(lon / resolution) * resolution)"
   ]
  },
  {
   "cell_type": "code",
   "execution_count": 28,
   "id": "953f9c47",
   "metadata": {},
   "outputs": [],
   "source": [
    "def load_cache(path):\n",
    "    if os.path.exists(path):\n",
    "        with open(path, \"r\") as f:\n",
    "            return json.load(f)\n",
    "    return {}"
   ]
  },
  {
   "cell_type": "code",
   "execution_count": 34,
   "id": "fffe9b85",
   "metadata": {},
   "outputs": [],
   "source": [
    "def save_cache(cache, path):\n",
    "    with open(path, \"w\") as f:\n",
    "        json.dump(cache, f)"
   ]
  },
  {
   "cell_type": "code",
   "execution_count": null,
   "id": "e7449197",
   "metadata": {},
   "outputs": [],
   "source": [
    "location_cache = {}"
   ]
  },
  {
   "cell_type": "code",
   "execution_count": 35,
   "id": "85552880",
   "metadata": {},
   "outputs": [],
   "source": [
    "def get_nearby_categories(lat, lon, radius=100, limit=3):\n",
    "    cache_key = round_coord(lat, lon)\n",
    "    if cache_key in location_cache:\n",
    "        return location_cache[cache_key]\n",
    "\n",
    "    if not FOURSQUARE_API_KEY:\n",
    "        return \"API key missing\"\n",
    "\n",
    "    headers = {\n",
    "        \"Authorization\": FOURSQUARE_API_KEY,\n",
    "        \"Accept\": \"application/json\"\n",
    "    }\n",
    "    params = {\n",
    "        \"ll\": f\"{lat},{lon}\",\n",
    "        \"radius\": radius,\n",
    "        \"limit\": limit\n",
    "    }\n",
    "\n",
    "    try:\n",
    "        response = requests.get(FOURSQUARE_URL, headers=headers, params=params)\n",
    "        response.raise_for_status()\n",
    "        data = response.json()\n",
    "    except Exception as e:\n",
    "        return f\"API error: {str(e)}\"\n",
    "\n",
    "    categories = set()\n",
    "    for place in data.get('results', []):\n",
    "        cats = place.get('categories', [])\n",
    "        if cats:\n",
    "            categories.add(cats[0].get('name'))\n",
    "\n",
    "    result = ', '.join(categories) if categories else \"None\"\n",
    "    location_cache[cache_key] = result\n",
    "    return result"
   ]
  },
  {
   "cell_type": "code",
   "execution_count": 36,
   "id": "c2b65d30",
   "metadata": {},
   "outputs": [],
   "source": [
    "location_cache = load_cache(location_cache_json_file)"
   ]
  },
  {
   "cell_type": "code",
   "execution_count": null,
   "id": "e649580d-23de-40a6-bcb2-6446dfe62e1d",
   "metadata": {},
   "outputs": [],
   "source": [
    "inside_airbnb_df['amenities'] = inside_airbnb_df.apply(\n",
    "    lambda row: get_nearby_categories(\n",
    "        row['latitude'],\n",
    "        row['longitude']),\n",
    "    axis=1)"
   ]
  },
  {
   "cell_type": "code",
   "execution_count": null,
   "id": "c3b69771",
   "metadata": {},
   "outputs": [],
   "source": [
    "inside_airbnb_df.head()"
   ]
  },
  {
   "cell_type": "code",
   "execution_count": null,
   "id": "b1fb74a0-642b-45ec-a305-2df5328e0e0d",
   "metadata": {},
   "outputs": [],
   "source": [
    "inside_airbnb_df.reset_index(inplace=True, drop=True)"
   ]
  },
  {
   "cell_type": "code",
   "execution_count": null,
   "id": "d9f2ba45-eed0-4148-b11b-ebd0982109f3",
   "metadata": {},
   "outputs": [],
   "source": [
    "inside_airbnb_df.drop(index=1490, inplace=True, axis=0)"
   ]
  },
  {
   "cell_type": "code",
   "execution_count": null,
   "id": "bb1d77cf-7f16-40d6-bb8d-5485f08e7b20",
   "metadata": {},
   "outputs": [],
   "source": [
    "inside_airbnb_df.head()"
   ]
  },
  {
   "cell_type": "code",
   "execution_count": null,
   "id": "d19ade63-434e-4c1d-a549-aefef3607769",
   "metadata": {},
   "outputs": [],
   "source": [
    "inside_airbnb_df.to_csv(inside_airbnb_data_dir / 'selected_short_term_rentals.csv', index=False)"
   ]
  },
  {
   "cell_type": "code",
   "execution_count": null,
   "id": "aefee575-0236-4062-833c-5d1d3eaeef67",
   "metadata": {},
   "outputs": [],
   "source": []
  }
 ],
 "metadata": {
  "kernelspec": {
   "display_name": "london-rentals",
   "language": "python",
   "name": "python3"
  },
  "language_info": {
   "codemirror_mode": {
    "name": "ipython",
    "version": 3
   },
   "file_extension": ".py",
   "mimetype": "text/x-python",
   "name": "python",
   "nbconvert_exporter": "python",
   "pygments_lexer": "ipython3",
   "version": "3.12.9"
  }
 },
 "nbformat": 4,
 "nbformat_minor": 5
}
